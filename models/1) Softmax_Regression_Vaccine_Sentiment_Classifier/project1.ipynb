{
  "cells": [
    {
      "cell_type": "markdown",
      "metadata": {
        "id": "UUnI43xyYm8E"
      },
      "source": [
        "# Mounting Content from Google Drive"
      ]
    },
    {
      "cell_type": "code",
      "execution_count": 7,
      "metadata": {
        "colab": {
          "base_uri": "https://localhost:8080/"
        },
        "id": "ExN8zjkkMfWQ",
        "outputId": "ad92805e-9703-4e09-fcb2-afdc0d2f8c2c"
      },
      "outputs": [
        {
          "name": "stdout",
          "output_type": "stream",
          "text": [
            "Drive already mounted at /content/drive; to attempt to forcibly remount, call drive.mount(\"/content/drive\", force_remount=True).\n"
          ]
        }
      ],
      "source": [
        "from google.colab import drive\n",
        "drive.mount(\"/content/drive\")"
      ]
    },
    {
      "cell_type": "markdown",
      "metadata": {
        "id": "jI9Q9G7nYgok"
      },
      "source": [
        "# Import necessary libraries"
      ]
    },
    {
      "cell_type": "code",
      "execution_count": 8,
      "metadata": {
        "id": "ab_qYKM7iGGS"
      },
      "outputs": [],
      "source": [
        "%matplotlib inline\n",
        "import matplotlib\n",
        "import matplotlib.pyplot as plt\n",
        "import numpy as np\n",
        "import pandas as pd\n",
        "import seaborn as sns"
      ]
    },
    {
      "cell_type": "markdown",
      "metadata": {
        "id": "se1EI84eaQGK"
      },
      "source": [
        "# Import datasets\n"
      ]
    },
    {
      "cell_type": "markdown",
      "metadata": {
        "id": "gVfGUJ2Waa-b"
      },
      "source": [
        "Labels in dataset:\n",
        "*   label 0: neutral\n",
        "*   label 1: anti-vax\n",
        "*   label 2: pro-vax\n",
        "\n",
        "\n",
        "\n",
        "\n",
        "\n"
      ]
    },
    {
      "cell_type": "code",
      "execution_count": 9,
      "metadata": {
        "colab": {
          "base_uri": "https://localhost:8080/",
          "height": 206
        },
        "id": "JEDnaZCdxXHI",
        "outputId": "1438023f-6f6e-4090-e9ee-a7b0dfa208ac"
      },
      "outputs": [
        {
          "data": {
            "text/html": [
              "<div>\n",
              "<style scoped>\n",
              "    .dataframe tbody tr th:only-of-type {\n",
              "        vertical-align: middle;\n",
              "    }\n",
              "\n",
              "    .dataframe tbody tr th {\n",
              "        vertical-align: top;\n",
              "    }\n",
              "\n",
              "    .dataframe thead th {\n",
              "        text-align: right;\n",
              "    }\n",
              "</style>\n",
              "<table border=\"1\" class=\"dataframe\">\n",
              "  <thead>\n",
              "    <tr style=\"text-align: right;\">\n",
              "      <th></th>\n",
              "      <th>tweet</th>\n",
              "      <th>label</th>\n",
              "    </tr>\n",
              "  </thead>\n",
              "  <tbody>\n",
              "    <tr>\n",
              "      <th>0</th>\n",
              "      <td>Sip N Shop Come thru right now #Marjais #Popul...</td>\n",
              "      <td>0</td>\n",
              "    </tr>\n",
              "    <tr>\n",
              "      <th>1</th>\n",
              "      <td>I don't know about you but My family and I wil...</td>\n",
              "      <td>1</td>\n",
              "    </tr>\n",
              "    <tr>\n",
              "      <th>2</th>\n",
              "      <td>@MSignorile Immunizations should be mandatory....</td>\n",
              "      <td>2</td>\n",
              "    </tr>\n",
              "    <tr>\n",
              "      <th>3</th>\n",
              "      <td>President Obama spoke in favor of vaccination ...</td>\n",
              "      <td>0</td>\n",
              "    </tr>\n",
              "    <tr>\n",
              "      <th>4</th>\n",
              "      <td>\"@myfoxla: Arizona monitoring hundreds for mea...</td>\n",
              "      <td>0</td>\n",
              "    </tr>\n",
              "  </tbody>\n",
              "</table>\n",
              "</div>"
            ],
            "text/plain": [
              "                                               tweet  label\n",
              "0  Sip N Shop Come thru right now #Marjais #Popul...      0\n",
              "1  I don't know about you but My family and I wil...      1\n",
              "2  @MSignorile Immunizations should be mandatory....      2\n",
              "3  President Obama spoke in favor of vaccination ...      0\n",
              "4  \"@myfoxla: Arizona monitoring hundreds for mea...      0"
            ]
          },
          "execution_count": 9,
          "metadata": {},
          "output_type": "execute_result"
        }
      ],
      "source": [
        "# train set\n",
        "Train_set_Location = r'/content/vaccine_train_set.csv' \n",
        "\n",
        "# validation set\n",
        "Validation_set_Location = r'/content/vaccine_validation_set.csv'  \n",
        "\n",
        "df_train = pd.read_csv(Train_set_Location, index_col=0)\n",
        "df_test = pd.read_csv(Validation_set_Location, index_col=0)\n",
        "df_train.head(5)"
      ]
    },
    {
      "cell_type": "code",
      "execution_count": 10,
      "metadata": {
        "colab": {
          "base_uri": "https://localhost:8080/"
        },
        "id": "nob7bQNOigRX",
        "outputId": "60f7054e-656c-45ed-fab8-ee0d87c0bb53"
      },
      "outputs": [
        {
          "name": "stdout",
          "output_type": "stream",
          "text": [
            "(15976, 2)\n",
            "(2282, 2)\n"
          ]
        }
      ],
      "source": [
        "print(df_train.shape)\n",
        "print(df_test.shape)"
      ]
    },
    {
      "cell_type": "markdown",
      "metadata": {
        "id": "bs4kZchyYaZj"
      },
      "source": [
        "# Clean up the data\n"
      ]
    },
    {
      "cell_type": "code",
      "execution_count": 11,
      "metadata": {
        "id": "X2TvRZp5qZem"
      },
      "outputs": [],
      "source": [
        "# function for cleaning tweet from url/sign/emojis\n",
        "def cleaner(tweet):\n",
        "    tweet = re.sub(\"@[A-Za-z0-9]+\",\"\",tweet) #Remove @ sign\n",
        "    tweet = re.sub(\"@|#|\\\":\", \"\", tweet)    # Remove my chars : @, #, \": \n",
        "    tweet = re.sub(r\"(?:\\@|http?\\://|https?\\://|www)\\S+\", \"\", tweet) #Remove http links\n",
        "    tweet = \" \".join(tweet.split())\n",
        "    tweet = tweet.replace(\"#\", \"\").replace(\"_\", \" \") #Remove hashtag sign but keep the text\n",
        "    # tweet = \" \".join(w for w in nltk.wordpunct_tokenize(tweet) \\   \n",
        "        #  if w.lower() in words or not w.isalpha())\n",
        "    return tweet"
      ]
    },
    {
      "cell_type": "code",
      "execution_count": 13,
      "metadata": {
        "colab": {
          "base_uri": "https://localhost:8080/",
          "height": 224
        },
        "id": "pq7MYMbIGOcn",
        "outputId": "0acb53b6-8163-4fb6-99c3-f7c30a6da2d9"
      },
      "outputs": [
        {
          "name": "stdout",
          "output_type": "stream",
          "text": [
            "Requirement already satisfied: emoji in /usr/local/lib/python3.7/dist-packages (1.6.1)\n"
          ]
        },
        {
          "data": {
            "text/html": [
              "<div>\n",
              "<style scoped>\n",
              "    .dataframe tbody tr th:only-of-type {\n",
              "        vertical-align: middle;\n",
              "    }\n",
              "\n",
              "    .dataframe tbody tr th {\n",
              "        vertical-align: top;\n",
              "    }\n",
              "\n",
              "    .dataframe thead th {\n",
              "        text-align: right;\n",
              "    }\n",
              "</style>\n",
              "<table border=\"1\" class=\"dataframe\">\n",
              "  <thead>\n",
              "    <tr style=\"text-align: right;\">\n",
              "      <th></th>\n",
              "      <th>tweet</th>\n",
              "      <th>label</th>\n",
              "    </tr>\n",
              "  </thead>\n",
              "  <tbody>\n",
              "    <tr>\n",
              "      <th>0</th>\n",
              "      <td>sip n shop come thru right now marjais popular...</td>\n",
              "      <td>0</td>\n",
              "    </tr>\n",
              "    <tr>\n",
              "      <th>1</th>\n",
              "      <td>i don't know about you but my family and i wil...</td>\n",
              "      <td>1</td>\n",
              "    </tr>\n",
              "    <tr>\n",
              "      <th>2</th>\n",
              "      <td>immunizations should be mandatory. period. in ...</td>\n",
              "      <td>2</td>\n",
              "    </tr>\n",
              "    <tr>\n",
              "      <th>3</th>\n",
              "      <td>president obama spoke in favor of vaccination ...</td>\n",
              "      <td>0</td>\n",
              "    </tr>\n",
              "    <tr>\n",
              "      <th>4</th>\n",
              "      <td>arizona monitoring hundreds for measles linked...</td>\n",
              "      <td>0</td>\n",
              "    </tr>\n",
              "  </tbody>\n",
              "</table>\n",
              "</div>"
            ],
            "text/plain": [
              "                                               tweet  label\n",
              "0  sip n shop come thru right now marjais popular...      0\n",
              "1  i don't know about you but my family and i wil...      1\n",
              "2  immunizations should be mandatory. period. in ...      2\n",
              "3  president obama spoke in favor of vaccination ...      0\n",
              "4  arizona monitoring hundreds for measles linked...      0"
            ]
          },
          "execution_count": 13,
          "metadata": {},
          "output_type": "execute_result"
        }
      ],
      "source": [
        "import nltk\n",
        "!pip install emoji --upgrade    # install emoji library for cleaning data\n",
        "import emoji\n",
        "import re\n",
        "\n",
        "# Drop the rows where at least one element is missing\n",
        "df_train.dropna()\n",
        "df_test.dropna()\n",
        "\n",
        "# Convert all tweets to lowercase\n",
        "df_train['tweet'] = df_train['tweet'].apply(lambda x : x.lower())\n",
        "df_test['tweet'] = df_test['tweet'].apply(lambda x : x.lower())\n",
        "\n",
        "# Remove punctuations\n",
        "df_train['tweet'] = df_train['tweet'].apply(lambda x : x.replace('[^\\w\\s]', \"\"))\n",
        "df_test['tweet'] = df_test['tweet'].apply(lambda x : x.replace('[^\\w\\s]', \"\"))\n",
        "\n",
        "# Clean the datasets from hashtags/urls/etc\n",
        "df_train['tweet'] = df_train['tweet'].map(lambda x: cleaner(x))\n",
        "df_test['tweet'] = df_test['tweet'].map(lambda x: cleaner(x))\n",
        "\n",
        "# remove emojis\n",
        "df_train['tweet'] = df_train['tweet'].apply(lambda x: x.encode('ascii', 'ignore').decode('ascii'))\n",
        "df_test['tweet'] = df_test['tweet'].apply(lambda x: x.encode('ascii', 'ignore').decode('ascii'))\n",
        "\n",
        "\n",
        "df_train.head(5)"
      ]
    },
    {
      "cell_type": "code",
      "execution_count": 14,
      "metadata": {
        "colab": {
          "base_uri": "https://localhost:8080/",
          "height": 446
        },
        "id": "EKwH36E5yFFi",
        "outputId": "1ac70691-51b9-41e0-fff1-c50d966aab87"
      },
      "outputs": [
        {
          "name": "stdout",
          "output_type": "stream",
          "text": [
            "0    7458\n",
            "2    6445\n",
            "1    2073\n",
            "Name: label, dtype: int64\n"
          ]
        },
        {
          "data": {
            "image/png": "[encoded data removed]",
            "text/plain": [
              "<Figure size 576x432 with 1 Axes>"
            ]
          },
          "metadata": {},
          "output_type": "display_data"
        }
      ],
      "source": [
        " # check the percentages of train set\n",
        "label = df_train['label'].value_counts()\n",
        "check_df_train = label.to_frame()\n",
        "plot = check_df_train.plot(kind='pie', y='label', labels=['neutral', 'pro-vax', 'anti-vax'], autopct='%.1f', figsize = (8, 6), title='Train Data')\n",
        "print(label)"
      ]
    },
    {
      "cell_type": "code",
      "execution_count": 15,
      "metadata": {
        "colab": {
          "base_uri": "https://localhost:8080/",
          "height": 446
        },
        "id": "UdHJq3Lr5M2J",
        "outputId": "9d02f391-1840-4f2d-b2f6-03b47b7b778c"
      },
      "outputs": [
        {
          "name": "stdout",
          "output_type": "stream",
          "text": [
            "0    1065\n",
            "2     921\n",
            "1     296\n",
            "Name: label, dtype: int64\n"
          ]
        },
        {
          "data": {
            "image/png": "[encoded data removed]",
            "text/plain": [
              "<Figure size 576x432 with 1 Axes>"
            ]
          },
          "metadata": {},
          "output_type": "display_data"
        }
      ],
      "source": [
        " # check the percentages of test set\n",
        "label = df_test['label'].value_counts()\n",
        "check_df_test = label.to_frame()\n",
        "plot = check_df_test.plot(kind='pie', y='label', labels=['neutral', 'pro-vax', 'anti-vax'], autopct='%.1f', figsize = (8, 6), title='Test Data')\n",
        "print(label)"
      ]
    },
    {
      "cell_type": "markdown",
      "metadata": {
        "id": "TKXALaERgME6"
      },
      "source": [
        "# Target"
      ]
    },
    {
      "cell_type": "code",
      "execution_count": 16,
      "metadata": {
        "colab": {
          "base_uri": "https://localhost:8080/"
        },
        "id": "V2lTnqdegP8S",
        "outputId": "cf84bcf5-5b7d-4494-e277-cea37b18edda"
      },
      "outputs": [
        {
          "data": {
            "text/plain": [
              "((15976,), (2282,))"
            ]
          },
          "execution_count": 16,
          "metadata": {},
          "output_type": "execute_result"
        }
      ],
      "source": [
        "train_label = np.asarray(df_train['label'])\n",
        "test_label = np.asarray(df_test['label'])\n",
        "\n",
        "train_label.shape, test_label.shape"
      ]
    },
    {
      "cell_type": "markdown",
      "metadata": {
        "id": "8Ees-uVP-Uhw"
      },
      "source": [
        "# Softmax Regression"
      ]
    },
    {
      "cell_type": "code",
      "execution_count": 17,
      "metadata": {
        "id": "STee-WxgEdBd"
      },
      "outputs": [],
      "source": [
        "from sklearn.linear_model import LogisticRegression\n",
        "\n",
        "# evaluation\n",
        "from sklearn.metrics import precision_score, recall_score, f1_score  \n",
        "from sklearn import metrics   "
      ]
    },
    {
      "cell_type": "code",
      "execution_count": 18,
      "metadata": {
        "id": "K6B6kRoQ2aDb"
      },
      "outputs": [],
      "source": [
        "def preprocess_text(text):\n",
        "    text = text.lower()\n",
        "    text = re.sub(r'\\d+|__|_*', '', text) # remove numbers , '__' and other useless characters\n",
        "    return text"
      ]
    },
    {
      "cell_type": "markdown",
      "metadata": {
        "id": "kQkODWWvsfVo"
      },
      "source": [
        "## TfidfVectorizer"
      ]
    },
    {
      "cell_type": "code",
      "execution_count": 19,
      "metadata": {
        "id": "wPO8Z1HjrFUZ"
      },
      "outputs": [],
      "source": [
        "from sklearn.feature_extraction.text import TfidfVectorizer\n",
        "from sklearn.feature_extraction.text import ENGLISH_STOP_WORDS\n",
        "from nltk.corpus import stopwords\n",
        "import re\n",
        "\n",
        "my_words = 'https http'.split()\n",
        "my_stopwords = ENGLISH_STOP_WORDS.union(my_words)\n",
        "\n",
        "tfidf_vectorizer = TfidfVectorizer(ngram_range=(1, 2), min_df=0.01, max_df=0.117, preprocessor=preprocess_text)\n",
        "\n",
        "\n",
        "tfidf_train = tfidf_vectorizer.fit_transform(df_train['tweet'])\n",
        "tfidf_test = tfidf_vectorizer.transform(df_test['tweet'])\n",
        "tfidf_train_test = tfidf_vectorizer.transform(df_train['tweet'])\n"
      ]
    },
    {
      "cell_type": "code",
      "execution_count": 20,
      "metadata": {
        "id": "JYXdqx-x-YZl"
      },
      "outputs": [],
      "source": [
        "# Prepare the model\n",
        "model_LR = LogisticRegression(multi_class='multinomial', max_iter=1000)\n",
        "\n",
        "# Fitting our model\n",
        "model_LR.fit(tfidf_train, train_label)\n",
        "\n",
        "# Predict the labels on the test set.\n",
        "predictions_LR = model_LR.predict(tfidf_test)"
      ]
    },
    {
      "cell_type": "markdown",
      "metadata": {
        "id": "fqGMaoEhgIEU"
      },
      "source": [
        "### Score (recall, precision, f1_score)"
      ]
    },
    {
      "cell_type": "code",
      "execution_count": 21,
      "metadata": {
        "colab": {
          "base_uri": "https://localhost:8080/",
          "height": 393
        },
        "id": "yT5Jci5y-XYz",
        "outputId": "0f799660-976a-44b6-b3f5-69fefb01520d"
      },
      "outputs": [
        {
          "name": "stdout",
          "output_type": "stream",
          "text": [
            "Printing scores for predictions on the test set.\n",
            "\n",
            "Average accuracy using Logistic Regression and precision measure: 66.93%\n",
            "Average accuracy using Logistic Regression and f1 measure: 66.62%\n",
            "Average accuracy using Logistic Regression and recall measure: 68.19%\n",
            "\n",
            " Predictions for Logistic Regression\n"
          ]
        },
        {
          "data": {
            "image/png": "[encoded data removed]",
            "text/plain": [
              "<Figure size 432x288 with 1 Axes>"
            ]
          },
          "metadata": {
            "needs_background": "light"
          },
          "output_type": "display_data"
        }
      ],
      "source": [
        "print(\"Printing scores for predictions on the test set.\\n\")\n",
        "\n",
        "precision_score_test = precision_score(test_label, predictions_LR, average='weighted' )     \n",
        "print (\"Average accuracy using Logistic Regression and precision measure: {}%\".format(round(precision_score_test*100,2))) \n",
        "\n",
        "f1_score_test = f1_score(test_label, predictions_LR, average='weighted')\n",
        "print (\"Average accuracy using Logistic Regression and f1 measure: {}%\".format(round(f1_score_test*100,2)))\n",
        "\n",
        "recall_score_test = recall_score(test_label, predictions_LR, average='weighted')\n",
        "print (\"Average accuracy using Logistic Regression and recall measure: {}%\".format(round(recall_score_test*100,2)))\n",
        "\n",
        "\n",
        "fpr, tpr, thresholds = metrics.roc_curve(test_label, predictions_LR, pos_label=1)\n",
        "print(\"\\n\", \"Predictions for Logistic Regression\")\n",
        "plt.plot(fpr, tpr)\n",
        "plt.show()"
      ]
    },
    {
      "cell_type": "markdown",
      "metadata": {
        "id": "fWzbsfzJF2Mg"
      },
      "source": [
        "### Learning Curves"
      ]
    },
    {
      "cell_type": "code",
      "execution_count": 22,
      "metadata": {
        "colab": {
          "base_uri": "https://localhost:8080/",
          "height": 295
        },
        "id": "WTumzJObF-_Q",
        "outputId": "d588e642-82a7-4442-c7e6-37d18b79434f"
      },
      "outputs": [
        {
          "data": {
            "image/png": "[encoded data removed]",
            "text/plain": [
              "<Figure size 432x288 with 1 Axes>"
            ]
          },
          "metadata": {
            "needs_background": "light"
          },
          "output_type": "display_data"
        }
      ],
      "source": [
        "from sklearn.metrics import mean_squared_error as mse\n",
        "\n",
        "train_errors=[]\n",
        "val_errors=[]\n",
        "train_size = tfidf_train.get_shape()[0]\n",
        "\n",
        "step = int(train_size/10)  # 10% of the train set\n",
        "\n",
        "for i in range(step, train_size, step):\n",
        "    model_LR.fit(tfidf_train[:i], train_label[:i])\n",
        "    train_preds = model_LR.predict(tfidf_train[:i])\n",
        "    val_preds = model_LR.predict(tfidf_test)\n",
        "    # train_errors.append(mse(train_preds, train_label[:i]))    # mse\n",
        "    train_errors.append(f1_score(train_label[:i], train_preds, average='weighted'))  # f1_score\n",
        "    # val_errors.append(mse(val_preds, test_label))             # mse\n",
        "    val_errors.append(f1_score(test_label, val_preds, average='weighted'))    # f1_score\n",
        "\n",
        "plt.plot(range(step, train_size, step), train_errors, label='Training score')\n",
        "plt.plot(range(step, train_size, step), val_errors, label='Validation score')\n",
        "plt.title('Learning Curves')    \n",
        "plt.xlabel('Train set size')\n",
        "plt.ylabel('f1_score')\n",
        "plt.legend()\n",
        "plt.show()"
      ]
    },
    {
      "cell_type": "markdown",
      "metadata": {
        "id": "XBDVgyNge3EH"
      },
      "source": [
        "### confusion matrix"
      ]
    },
    {
      "cell_type": "code",
      "execution_count": 23,
      "metadata": {
        "colab": {
          "base_uri": "https://localhost:8080/",
          "height": 337
        },
        "id": "FpNgMXGee3EH",
        "outputId": "9b76b3fa-a086-4f4e-95cd-5e18ee6f3462"
      },
      "outputs": [
        {
          "name": "stdout",
          "output_type": "stream",
          "text": [
            "\n",
            "Test confusion_matrix\n"
          ]
        },
        {
          "data": {
            "text/plain": [
              "Text(33.0, 0.5, 'True')"
            ]
          },
          "execution_count": 23,
          "metadata": {},
          "output_type": "execute_result"
        },
        {
          "data": {
            "image/png": "[encoded data removed]",
            "text/plain": [
              "<Figure size 432x288 with 2 Axes>"
            ]
          },
          "metadata": {
            "needs_background": "light"
          },
          "output_type": "display_data"
        }
      ],
      "source": [
        "# Make the confusion matrix\n",
        "from sklearn.metrics import confusion_matrix\n",
        "cf_matrix = confusion_matrix(test_label, predictions_LR)\n",
        "print(\"\\nTest confusion_matrix\")\n",
        "sns.heatmap(cf_matrix, annot=True, cmap='Blues')\n",
        "plt.xlabel('Predicted', fontsize=12)\n",
        "plt.ylabel('True', fontsize=12)"
      ]
    },
    {
      "cell_type": "markdown",
      "metadata": {
        "id": "DnkF5uByscb6"
      },
      "source": [
        "## CountVectorizer"
      ]
    },
    {
      "cell_type": "code",
      "execution_count": 27,
      "metadata": {
        "id": "EvAuXw4Kc1iI"
      },
      "outputs": [],
      "source": [
        "from sklearn.feature_extraction.text import CountVectorizer\n",
        "from sklearn.feature_extraction.text import ENGLISH_STOP_WORDS\n",
        "from nltk.corpus import stopwords\n",
        "\n",
        "my_words = 'https http'.split()\n",
        "my_stopwords = ENGLISH_STOP_WORDS.union(my_words)\n",
        "\n",
        "countVectorizer = CountVectorizer(ngram_range=(1, 2), min_df=0.01, max_df=0.117, preprocessor=preprocess_text)\n",
        "\n",
        "bow_train = countVectorizer.fit_transform(df_train['tweet'])\n",
        "bow_test = countVectorizer.transform(df_test['tweet'])"
      ]
    },
    {
      "cell_type": "code",
      "execution_count": 28,
      "metadata": {
        "id": "XKoVecykKlI_"
      },
      "outputs": [],
      "source": [
        "# Prepare the model\n",
        "model_LR = LogisticRegression(multi_class='multinomial', max_iter=1000)\n",
        "\n",
        "# Fitting our model\n",
        "model_LR.fit(bow_train, train_label)\n",
        "\n",
        "# Predict the labels on the test set.\n",
        "predictions_LR = model_LR.predict(bow_test)"
      ]
    },
    {
      "cell_type": "markdown",
      "metadata": {
        "id": "YETLtonRgUMx"
      },
      "source": [
        "### Score (recall, precision, f1_score)"
      ]
    },
    {
      "cell_type": "code",
      "execution_count": 29,
      "metadata": {
        "colab": {
          "base_uri": "https://localhost:8080/",
          "height": 393
        },
        "id": "7hAp1lXr6fe3",
        "outputId": "09af397f-d7ff-46d9-978e-6e04a00ddbb3"
      },
      "outputs": [
        {
          "name": "stdout",
          "output_type": "stream",
          "text": [
            "Printing scores for predictions on the test set.\n",
            "\n",
            "Average accuracy using Logistic Regression and precision measure: 65.96%\n",
            "Average accuracy using Logistic Regression and f1 measure: 65.83%\n",
            "Average accuracy using Logistic Regression and recall measure: 67.53%\n",
            "\n",
            " Predictions for Logistic Regression\n"
          ]
        },
        {
          "data": {
            "image/png": "[encoded data removed]",
            "text/plain": [
              "<Figure size 432x288 with 1 Axes>"
            ]
          },
          "metadata": {
            "needs_background": "light"
          },
          "output_type": "display_data"
        }
      ],
      "source": [
        "print(\"Printing scores for predictions on the test set.\\n\")\n",
        "\n",
        "precision_score_test = precision_score(test_label, predictions_LR, average='weighted' )     \n",
        "print (\"Average accuracy using Logistic Regression and precision measure: {}%\".format(round(precision_score_test*100,2))) \n",
        "\n",
        "f1_score_test = f1_score(test_label, predictions_LR, average='weighted')\n",
        "print (\"Average accuracy using Logistic Regression and f1 measure: {}%\".format(round(f1_score_test*100,2)))\n",
        "\n",
        "recall_score_test = recall_score(test_label, predictions_LR, average='weighted')\n",
        "print (\"Average accuracy using Logistic Regression and recall measure: {}%\".format(round(recall_score_test*100,2)))\n",
        "\n",
        "\n",
        "fpr, tpr, thresholds = metrics.roc_curve(test_label, predictions_LR, pos_label=1)\n",
        "print(\"\\n\", \"Predictions for Logistic Regression\")\n",
        "plt.plot(fpr, tpr)\n",
        "plt.show()"
      ]
    },
    {
      "cell_type": "markdown",
      "metadata": {
        "id": "MX1HRfWU6rl0"
      },
      "source": [
        "### Learning Curves"
      ]
    },
    {
      "cell_type": "code",
      "execution_count": 30,
      "metadata": {
        "colab": {
          "base_uri": "https://localhost:8080/",
          "height": 295
        },
        "id": "PKwAlS7_b4d4",
        "outputId": "c34db051-6b11-4bc3-c551-271c0504f48b"
      },
      "outputs": [
        {
          "data": {
            "image/png": "[encoded data removed]",
            "text/plain": [
              "<Figure size 432x288 with 1 Axes>"
            ]
          },
          "metadata": {
            "needs_background": "light"
          },
          "output_type": "display_data"
        }
      ],
      "source": [
        "from sklearn.metrics import mean_squared_error as mse\n",
        "\n",
        "train_errors=[]\n",
        "val_errors=[]\n",
        "n_iter = bow_train.get_shape()[0]\n",
        "\n",
        "step = int(n_iter/10) # 10% of the train set\n",
        "\n",
        "for i in range(step, n_iter, step):\n",
        "    model_LR.fit(bow_train[:i], train_label[:i])\n",
        "    train_preds=model_LR.predict(bow_train[:i])\n",
        "    val_preds=model_LR.predict(bow_test)\n",
        "    # train_errors.append(mse(train_preds, train_label[:i]))    # mse\n",
        "    train_errors.append(f1_score(train_label[:i], train_preds, average='weighted'))  # f1_score\n",
        "    # val_errors.append(mse(val_preds, test_label))             # mse\n",
        "    val_errors.append(f1_score(test_label, val_preds, average='weighted'))    # f1_score\n",
        "\n",
        "plt.plot(range(step, n_iter, step), train_errors, label='Training score')\n",
        "plt.plot(range(step, n_iter, step), val_errors, label='Validation score')\n",
        "plt.title('Learning Curves')    \n",
        "plt.xlabel('Train set size')\n",
        "plt.ylabel('f1_score')\n",
        "plt.legend()\n",
        "plt.show()"
      ]
    },
    {
      "cell_type": "markdown",
      "metadata": {
        "id": "GkFh1NzFaHrc"
      },
      "source": [
        "### confusion matrix"
      ]
    },
    {
      "cell_type": "code",
      "execution_count": 31,
      "metadata": {
        "colab": {
          "base_uri": "https://localhost:8080/",
          "height": 337
        },
        "id": "3-4dq6ZLaGj8",
        "outputId": "049cb554-5172-4c7c-9097-b1d8f49cd5db"
      },
      "outputs": [
        {
          "name": "stdout",
          "output_type": "stream",
          "text": [
            "\n",
            "Test confusion_matrix\n"
          ]
        },
        {
          "data": {
            "text/plain": [
              "Text(33.0, 0.5, 'True')"
            ]
          },
          "execution_count": 31,
          "metadata": {},
          "output_type": "execute_result"
        },
        {
          "data": {
            "image/png": "[encoded data removed]",
            "text/plain": [
              "<Figure size 432x288 with 2 Axes>"
            ]
          },
          "metadata": {
            "needs_background": "light"
          },
          "output_type": "display_data"
        }
      ],
      "source": [
        "# Make the confusion matrix\n",
        "from sklearn.metrics import confusion_matrix\n",
        "cf_matrix = confusion_matrix(test_label, predictions_LR)\n",
        "print(\"\\nTest confusion_matrix\")\n",
        "sns.heatmap(cf_matrix, annot=True, cmap='Blues')\n",
        "plt.xlabel('Predicted', fontsize=12)\n",
        "plt.ylabel('True', fontsize=12)"
      ]
    },
    {
      "cell_type": "markdown",
      "metadata": {
        "id": "CQFq64C-dhqY"
      },
      "source": [
        "## HashingVectorizer"
      ]
    },
    {
      "cell_type": "code",
      "execution_count": 32,
      "metadata": {
        "id": "zk7rL2T9dhqZ"
      },
      "outputs": [],
      "source": [
        "from sklearn.feature_extraction.text import HashingVectorizer\n",
        "from sklearn.feature_extraction.text import ENGLISH_STOP_WORDS\n",
        "from nltk.corpus import stopwords\n",
        "\n",
        "# my_n_features = int(train_label.shape[0]/2) # get the half number of features\n",
        "\n",
        "hashVectorizer = HashingVectorizer(ngram_range=(1, 2), n_features=2**8, stop_words=my_stopwords, preprocessor=preprocess_text) \n",
        "# oso paei panw apo 2**10 h apoklish auxanete\n",
        "# oso paei katw apo 2**6 tote ginete to idio\n",
        "\n",
        "hash_train = hashVectorizer.fit_transform(df_train['tweet'])\n",
        "hash_test = hashVectorizer.transform(df_test['tweet'])\n"
      ]
    },
    {
      "cell_type": "code",
      "execution_count": 33,
      "metadata": {
        "id": "sgGjQMXfdhqZ"
      },
      "outputs": [],
      "source": [
        "# Prepare the model\n",
        "model_LR = LogisticRegression(multi_class='multinomial', max_iter=1000)\n",
        "\n",
        "# Fitting our model\n",
        "model_LR.fit(hash_train, train_label)\n",
        "\n",
        "# Predict the labels on the test set.\n",
        "predictions_LR = model_LR.predict(hash_test)"
      ]
    },
    {
      "cell_type": "markdown",
      "metadata": {
        "id": "RV3CIFYigVut"
      },
      "source": [
        "### Score (recall, precision, f1_score)"
      ]
    },
    {
      "cell_type": "code",
      "execution_count": 34,
      "metadata": {
        "colab": {
          "base_uri": "https://localhost:8080/",
          "height": 393
        },
        "id": "WVz7TZuUdhqZ",
        "outputId": "e97cf2a2-4e33-4d24-eebb-735df934ca60"
      },
      "outputs": [
        {
          "name": "stdout",
          "output_type": "stream",
          "text": [
            "Printing scores for predictions on the test set.\n",
            "\n",
            "Average accuracy using Logistic Regression and precision measure: 59.7%\n",
            "Average accuracy using Logistic Regression and f1 measure: 59.15%\n",
            "Average accuracy using Logistic Regression and recall measure: 61.35%\n",
            "\n",
            " Predictions for Logistic Regression\n"
          ]
        },
        {
          "data": {
            "image/png": "[encoded data removed]",
            "text/plain": [
              "<Figure size 432x288 with 1 Axes>"
            ]
          },
          "metadata": {
            "needs_background": "light"
          },
          "output_type": "display_data"
        }
      ],
      "source": [
        "print(\"Printing scores for predictions on the test set.\\n\")\n",
        "\n",
        "precision_score_test = precision_score(test_label, predictions_LR, average='weighted' )     \n",
        "print (\"Average accuracy using Logistic Regression and precision measure: {}%\".format(round(precision_score_test*100,2))) \n",
        "\n",
        "f1_score_test = f1_score(test_label, predictions_LR, average='weighted')\n",
        "print (\"Average accuracy using Logistic Regression and f1 measure: {}%\".format(round(f1_score_test*100,2)))\n",
        "\n",
        "recall_score_test = recall_score(test_label, predictions_LR, average='weighted')\n",
        "print (\"Average accuracy using Logistic Regression and recall measure: {}%\".format(round(recall_score_test*100,2)))\n",
        "\n",
        "\n",
        "fpr, tpr, thresholds = metrics.roc_curve(test_label, predictions_LR, pos_label=1)\n",
        "print(\"\\n\", \"Predictions for Logistic Regression\")\n",
        "plt.plot(fpr, tpr)\n",
        "plt.show()"
      ]
    },
    {
      "cell_type": "markdown",
      "metadata": {
        "id": "dyMQWxMRdmJN"
      },
      "source": [
        "### Learning Curves"
      ]
    },
    {
      "cell_type": "code",
      "execution_count": 35,
      "metadata": {
        "colab": {
          "base_uri": "https://localhost:8080/",
          "height": 295
        },
        "id": "ynAEGHvrdhqZ",
        "outputId": "b41b380a-f6af-43ec-80bc-e81e7d5923ce"
      },
      "outputs": [
        {
          "data": {
            "image/png": "[encoded data removed]",
            "text/plain": [
              "<Figure size 432x288 with 1 Axes>"
            ]
          },
          "metadata": {
            "needs_background": "light"
          },
          "output_type": "display_data"
        }
      ],
      "source": [
        "from sklearn.metrics import mean_squared_error as mse\n",
        "\n",
        "train_errors=[]\n",
        "val_errors=[]\n",
        "n_iter = hash_train.get_shape()[0]\n",
        "\n",
        "step = int(n_iter/10)   # 10% of the train set\n",
        "\n",
        "for i in range(step, n_iter, step):\n",
        "    model_LR.fit(hash_train[:i], train_label[:i])\n",
        "    train_preds=model_LR.predict(hash_train[:i])\n",
        "    val_preds=model_LR.predict(hash_test)\n",
        "    # train_errors.append(mse(train_preds, train_label[:i]))    # mse\n",
        "    train_errors.append(f1_score(train_preds, train_label[:i],  average='weighted'))  # f1_score\n",
        "    # val_errors.append(mse(val_preds, test_label))             # mse\n",
        "    val_errors.append(f1_score(val_preds, test_label,  average='weighted'))    # f1_score\n",
        "\n",
        "plt.plot(range(step, n_iter, step), train_errors, label='Training score')\n",
        "plt.plot(range(step, n_iter, step), val_errors, label='Validation score')\n",
        "plt.title('Learning Curves')    \n",
        "plt.xlabel('Train set size')\n",
        "plt.ylabel('f1_score')\n",
        "plt.legend()\n",
        "plt.show()"
      ]
    },
    {
      "cell_type": "markdown",
      "metadata": {
        "id": "PbID86MKesDR"
      },
      "source": [
        "### confusion matrix"
      ]
    },
    {
      "cell_type": "code",
      "execution_count": 36,
      "metadata": {
        "colab": {
          "base_uri": "https://localhost:8080/",
          "height": 337
        },
        "id": "QVp4P9OIesDS",
        "outputId": "08156ba0-b1df-403c-8843-c77de7b2a138"
      },
      "outputs": [
        {
          "name": "stdout",
          "output_type": "stream",
          "text": [
            "\n",
            "Test confusion_matrix\n"
          ]
        },
        {
          "data": {
            "text/plain": [
              "Text(33.0, 0.5, 'True')"
            ]
          },
          "execution_count": 36,
          "metadata": {},
          "output_type": "execute_result"
        },
        {
          "data": {
            "image/png": "[encoded data removed]",
            "text/plain": [
              "<Figure size 432x288 with 2 Axes>"
            ]
          },
          "metadata": {
            "needs_background": "light"
          },
          "output_type": "display_data"
        }
      ],
      "source": [
        "# Make the confusion matrix\n",
        "from sklearn.metrics import confusion_matrix\n",
        "cf_matrix = confusion_matrix(test_label, predictions_LR)\n",
        "print(\"\\nTest confusion_matrix\")\n",
        "sns.heatmap(cf_matrix, annot=True, cmap='Blues')\n",
        "plt.xlabel('Predicted', fontsize=12)\n",
        "plt.ylabel('True', fontsize=12)"
      ]
    }
  ],
  "metadata": {
    "colab": {
      "collapsed_sections": [],
      "name": "project1.ipynb",
      "provenance": [],
      "toc_visible": true
    },
    "kernelspec": {
      "display_name": "Python 3",
      "name": "python3"
    },
    "language_info": {
      "name": "python"
    }
  },
  "nbformat": 4,
  "nbformat_minor": 0
}
