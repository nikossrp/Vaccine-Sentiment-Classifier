{
  "cells": [
    {
      "cell_type": "markdown",
      "metadata": {
        "id": "UUnI43xyYm8E"
      },
      "source": [
        "# Mounting Content from Google Drive"
      ]
    },
    {
      "cell_type": "code",
      "execution_count": null,
      "metadata": {
        "colab": {
          "base_uri": "https://localhost:8080/"
        },
        "id": "ExN8zjkkMfWQ",
        "outputId": "52431a91-e39d-42bb-a732-35be7bb63321"
      },
      "outputs": [
        {
          "name": "stdout",
          "output_type": "stream",
          "text": [
            "Drive already mounted at /content/drive; to attempt to forcibly remount, call drive.mount(\"/content/drive\", force_remount=True).\n"
          ]
        }
      ],
      "source": [
        "from google.colab import drive\n",
        "drive.mount(\"/content/drive\")"
      ]
    },
    {
      "cell_type": "markdown",
      "metadata": {
        "id": "jI9Q9G7nYgok"
      },
      "source": [
        "# Import necessary libraries and set the seeds"
      ]
    },
    {
      "cell_type": "code",
      "execution_count": 1,
      "metadata": {
        "colab": {
          "base_uri": "https://localhost:8080/"
        },
        "id": "ab_qYKM7iGGS",
        "outputId": "79184ee8-61ae-4902-91f7-3db9762956fa"
      },
      "outputs": [
        {
          "name": "stdout",
          "output_type": "stream",
          "text": [
            "Working on: cuda\n"
          ]
        }
      ],
      "source": [
        "# Imports\n",
        "import pandas as pd # data handling\n",
        "import numpy as np # base of all\n",
        "import matplotlib.pyplot as plt # plotting\n",
        "import seaborn as sns  # advance plotting\n",
        "from wordcloud import WordCloud # to see the words as image\n",
        "import torch # PyTorch for building Networks\n",
        "from torchtext.legacy.data import Field, LabelField, BucketIterator,TabularDataset  # TorchText has Text processing Function\n",
        "from torchtext import vocab\n",
        "from sklearn.model_selection import train_test_split # split the data into training and testing\n",
        "from sklearn.metrics import accuracy_score # accuracy metric\n",
        "from nltk import word_tokenize # very popular Text processing Library\n",
        "import random # to perform randomisation of tasks\n",
        "from tqdm.notebook import tqdm # for a continuous progress bar style\n",
        "import time # time module \n",
        "import os # import operating system\n",
        "\n",
        "\n",
        "SEED = 12345\n",
        "np.random.seed(SEED) \n",
        "torch.manual_seed(SEED)\n",
        "torch.cuda.manual_seed(SEED)\n",
        "torch.backends.cudnn.deterministic = True  # cuda algorithms\n",
        "os.environ['PYTHONHASHSEED'] = str(SEED)\n",
        "\n",
        "device = torch.device('cuda' if torch.cuda.is_available() else 'cpu') # use 'cuda' if available else 'cpu'\n",
        "print('Working on:', device)"
      ]
    },
    {
      "cell_type": "markdown",
      "metadata": {
        "id": "se1EI84eaQGK"
      },
      "source": [
        "# Import datasets\n"
      ]
    },
    {
      "cell_type": "markdown",
      "metadata": {
        "id": "gVfGUJ2Waa-b"
      },
      "source": [
        "Labels in dataset:\n",
        "*   label 0: neutral\n",
        "*   label 1: anti-vax\n",
        "*   label 2: pro-vax\n",
        "\n",
        "\n",
        "\n",
        "\n",
        "\n"
      ]
    },
    {
      "cell_type": "code",
      "execution_count": 2,
      "metadata": {
        "colab": {
          "base_uri": "https://localhost:8080/",
          "height": 206
        },
        "id": "JEDnaZCdxXHI",
        "outputId": "d96605b4-7bc0-4a00-fbd8-9f74555e09d1"
      },
      "outputs": [
        {
          "data": {
            "text/html": [
              "\n",
              "  <div id=\"df-e63207c4-f948-4ff9-9230-f6672a387cc8\">\n",
              "    <div class=\"colab-df-container\">\n",
              "      <div>\n",
              "<style scoped>\n",
              "    .dataframe tbody tr th:only-of-type {\n",
              "        vertical-align: middle;\n",
              "    }\n",
              "\n",
              "    .dataframe tbody tr th {\n",
              "        vertical-align: top;\n",
              "    }\n",
              "\n",
              "    .dataframe thead th {\n",
              "        text-align: right;\n",
              "    }\n",
              "</style>\n",
              "<table border=\"1\" class=\"dataframe\">\n",
              "  <thead>\n",
              "    <tr style=\"text-align: right;\">\n",
              "      <th></th>\n",
              "      <th>tweet</th>\n",
              "      <th>label</th>\n",
              "    </tr>\n",
              "  </thead>\n",
              "  <tbody>\n",
              "    <tr>\n",
              "      <th>0</th>\n",
              "      <td>Sip N Shop Come thru right now #Marjais #Popul...</td>\n",
              "      <td>0</td>\n",
              "    </tr>\n",
              "    <tr>\n",
              "      <th>1</th>\n",
              "      <td>I don't know about you but My family and I wil...</td>\n",
              "      <td>1</td>\n",
              "    </tr>\n",
              "    <tr>\n",
              "      <th>2</th>\n",
              "      <td>@MSignorile Immunizations should be mandatory....</td>\n",
              "      <td>2</td>\n",
              "    </tr>\n",
              "    <tr>\n",
              "      <th>3</th>\n",
              "      <td>President Obama spoke in favor of vaccination ...</td>\n",
              "      <td>0</td>\n",
              "    </tr>\n",
              "    <tr>\n",
              "      <th>4</th>\n",
              "      <td>\"@myfoxla: Arizona monitoring hundreds for mea...</td>\n",
              "      <td>0</td>\n",
              "    </tr>\n",
              "  </tbody>\n",
              "</table>\n",
              "</div>\n",
              "      <button class=\"colab-df-convert\" onclick=\"convertToInteractive('df-e63207c4-f948-4ff9-9230-f6672a387cc8')\"\n",
              "              title=\"Convert this dataframe to an interactive table.\"\n",
              "              style=\"display:none;\">\n",
              "        \n",
              "  <svg xmlns=\"http://www.w3.org/2000/svg\" height=\"24px\"viewBox=\"0 0 24 24\"\n",
              "       width=\"24px\">\n",
              "    <path d=\"M0 0h24v24H0V0z\" fill=\"none\"/>\n",
              "    <path d=\"M18.56 5.44l.94 2.06.94-2.06 2.06-.94-2.06-.94-.94-2.06-.94 2.06-2.06.94zm-11 1L8.5 8.5l.94-2.06 2.06-.94-2.06-.94L8.5 2.5l-.94 2.06-2.06.94zm10 10l.94 2.06.94-2.06 2.06-.94-2.06-.94-.94-2.06-.94 2.06-2.06.94z\"/><path d=\"M17.41 7.96l-1.37-1.37c-.4-.4-.92-.59-1.43-.59-.52 0-1.04.2-1.43.59L10.3 9.45l-7.72 7.72c-.78.78-.78 2.05 0 2.83L4 21.41c.39.39.9.59 1.41.59.51 0 1.02-.2 1.41-.59l7.78-7.78 2.81-2.81c.8-.78.8-2.07 0-2.86zM5.41 20L4 18.59l7.72-7.72 1.47 1.35L5.41 20z\"/>\n",
              "  </svg>\n",
              "      </button>\n",
              "      \n",
              "  <style>\n",
              "    .colab-df-container {\n",
              "      display:flex;\n",
              "      flex-wrap:wrap;\n",
              "      gap: 12px;\n",
              "    }\n",
              "\n",
              "    .colab-df-convert {\n",
              "      background-color: #E8F0FE;\n",
              "      border: none;\n",
              "      border-radius: 50%;\n",
              "      cursor: pointer;\n",
              "      display: none;\n",
              "      fill: #1967D2;\n",
              "      height: 32px;\n",
              "      padding: 0 0 0 0;\n",
              "      width: 32px;\n",
              "    }\n",
              "\n",
              "    .colab-df-convert:hover {\n",
              "      background-color: #E2EBFA;\n",
              "      box-shadow: 0px 1px 2px rgba(60, 64, 67, 0.3), 0px 1px 3px 1px rgba(60, 64, 67, 0.15);\n",
              "      fill: #174EA6;\n",
              "    }\n",
              "\n",
              "    [theme=dark] .colab-df-convert {\n",
              "      background-color: #3B4455;\n",
              "      fill: #D2E3FC;\n",
              "    }\n",
              "\n",
              "    [theme=dark] .colab-df-convert:hover {\n",
              "      background-color: #434B5C;\n",
              "      box-shadow: 0px 1px 3px 1px rgba(0, 0, 0, 0.15);\n",
              "      filter: drop-shadow(0px 1px 2px rgba(0, 0, 0, 0.3));\n",
              "      fill: #FFFFFF;\n",
              "    }\n",
              "  </style>\n",
              "\n",
              "      <script>\n",
              "        const buttonEl =\n",
              "          document.querySelector('#df-e63207c4-f948-4ff9-9230-f6672a387cc8 button.colab-df-convert');\n",
              "        buttonEl.style.display =\n",
              "          google.colab.kernel.accessAllowed ? 'block' : 'none';\n",
              "\n",
              "        async function convertToInteractive(key) {\n",
              "          const element = document.querySelector('#df-e63207c4-f948-4ff9-9230-f6672a387cc8');\n",
              "          const dataTable =\n",
              "            await google.colab.kernel.invokeFunction('convertToInteractive',\n",
              "                                                     [key], {});\n",
              "          if (!dataTable) return;\n",
              "\n",
              "          const docLinkHtml = 'Like what you see? Visit the ' +\n",
              "            '<a target=\"_blank\" href=https://colab.research.google.com/notebooks/data_table.ipynb>data table notebook</a>'\n",
              "            + ' to learn more about interactive tables.';\n",
              "          element.innerHTML = '';\n",
              "          dataTable['output_type'] = 'display_data';\n",
              "          await google.colab.output.renderOutput(dataTable, element);\n",
              "          const docLink = document.createElement('div');\n",
              "          docLink.innerHTML = docLinkHtml;\n",
              "          element.appendChild(docLink);\n",
              "        }\n",
              "      </script>\n",
              "    </div>\n",
              "  </div>\n",
              "  "
            ],
            "text/plain": [
              "                                               tweet  label\n",
              "0  Sip N Shop Come thru right now #Marjais #Popul...      0\n",
              "1  I don't know about you but My family and I wil...      1\n",
              "2  @MSignorile Immunizations should be mandatory....      2\n",
              "3  President Obama spoke in favor of vaccination ...      0\n",
              "4  \"@myfoxla: Arizona monitoring hundreds for mea...      0"
            ]
          },
          "execution_count": 2,
          "metadata": {},
          "output_type": "execute_result"
        }
      ],
      "source": [
        "# train set\n",
        "Train_set_Location = r'/content/vaccine_train_set.csv' \n",
        "\n",
        "# validation set\n",
        "Validation_set_Location = r'/content/vaccine_validation_set.csv'  \n",
        "\n",
        "df_train = pd.read_csv(Train_set_Location, index_col=0)\n",
        "df_test = pd.read_csv(Validation_set_Location, index_col=0)\n",
        "\n",
        "# Drop the rows where at least one element is missing\n",
        "df_train.dropna()\n",
        "df_test.dropna()\n",
        "\n",
        "df_train.head(5)"
      ]
    },
    {
      "cell_type": "code",
      "execution_count": 3,
      "metadata": {
        "colab": {
          "base_uri": "https://localhost:8080/"
        },
        "id": "nob7bQNOigRX",
        "outputId": "88ff2276-0839-4de0-a31a-20692f272b5e"
      },
      "outputs": [
        {
          "name": "stdout",
          "output_type": "stream",
          "text": [
            "(15976, 2)\n",
            "(2282, 2)\n"
          ]
        }
      ],
      "source": [
        "print(df_train.shape)\n",
        "print(df_test.shape)"
      ]
    },
    {
      "cell_type": "code",
      "execution_count": 4,
      "metadata": {
        "id": "AoyzRHbHv9CQ"
      },
      "outputs": [],
      "source": [
        "# Save the preprocessed  tweets\n",
        "df_train.to_csv(Train_set_Location)\n",
        "df_test.to_csv(Validation_set_Location)"
      ]
    },
    {
      "cell_type": "markdown",
      "metadata": {
        "id": "zNSqq_FOW1RU"
      },
      "source": [
        "# Prepare the fields for vocabulary"
      ]
    },
    {
      "cell_type": "markdown",
      "metadata": {
        "id": "Uh3nki1N1zlr"
      },
      "source": [
        "# Creating GloVe vocabulary \n",
        "https://nlp.stanford.edu/projects/glove/\n",
        "\n",
        "https://towardsdatascience.com/how-to-use-torchtext-for-neural-machine-translation-plus-hack-to-make-it-5x-faster-77f3884d95"
      ]
    },
    {
      "cell_type": "code",
      "execution_count": 5,
      "metadata": {
        "colab": {
          "base_uri": "https://localhost:8080/"
        },
        "id": "WN07zv2MH5u_",
        "outputId": "2a2d7c4e-1712-41b1-f3b1-a913698c727e"
      },
      "outputs": [
        {
          "name": "stdout",
          "output_type": "stream",
          "text": [
            "First line from training set:\n",
            " {'tweet': ['sip', 'n', 'shop', 'come', 'thru', 'right', 'now', '#', 'marjais', '#', 'popularnobodies', '#', 'mmr', '🙌', '🙌', '🙌', '🙌', '@', 'marjais', 'sipnshop', 'http://t.co/jfwah7uzwe'], 'label': '0'}\n",
            "\n",
            "First line from test set:\n",
            " {'tweet': ['@user', 'they', 'had', 'a', 'massive', 'surge', 'in', 'with', 'covid', 'deaths', 'immediately', 'after', 'the', 'vaccine', 'rollout', ',', 'way', 'more', 'than', 'they', 'had', 'during', 'the', 'entirety', 'of', 'the', '\"', 'pandemic', '\"', 'up', 'to', 'that', 'point', '.', 'fuck', 'those', 'jabs', ',', 'dr', '.', 'death', '.'], 'label': '1'}\n"
          ]
        }
      ],
      "source": [
        "from torchtext.legacy import data \n",
        "\n",
        "#Here we initialize two fields. One for the text (our features) and one for the labels.\n",
        "text_field = data.Field(tokenize='spacy', lower=True) # Fix length is 40 so every batch can have the same length (needed for this model).\n",
        "label_field = data.Field(sequential=False, use_vocab=False)\n",
        "\n",
        "\n",
        "# Splitting with the TabularDataset module. This will allow us to also tokenize the text.\n",
        "train_data, test_data = data.TabularDataset.splits(\n",
        "                                        path='/content/',\n",
        "                                        train = 'vaccine_train_set.csv',\n",
        "                                        test = 'vaccine_validation_set.csv',\n",
        "                                        format = 'csv',\n",
        "                                        skip_header = True,\n",
        "                                        fields=[(None, None), ('tweet', text_field), ('label', label_field)])\n",
        "\n",
        "print('First line from training set:\\n', vars(train_data.examples[0]))\n",
        "print('\\nFirst line from test set:\\n', vars(test_data.examples[0]))"
      ]
    },
    {
      "cell_type": "markdown",
      "metadata": {
        "id": "Uki6FLvVsrTc"
      },
      "source": [
        "# BacketIterator"
      ]
    },
    {
      "cell_type": "markdown",
      "metadata": {
        "id": "YGgDEWiVsuIg"
      },
      "source": [
        "# Fields"
      ]
    },
    {
      "cell_type": "code",
      "execution_count": 6,
      "metadata": {
        "colab": {
          "base_uri": "https://localhost:8080/"
        },
        "id": "RSsFQeXnq1Om",
        "outputId": "60c88cb1-3f6b-403a-9f74-62ebc1539570"
      },
      "outputs": [
        {
          "name": "stdout",
          "output_type": "stream",
          "text": [
            "{'<unk>': 0, '<pad>': 1, '.': 2, '#': 3, 'the': 4, 'to': 5, ',': 6, 'vaccine': 7, 'a': 8, ':': 9, 'measles': 10, 'of': 11, 'and': 12, 'i': 13, 'in': 14}\n"
          ]
        }
      ],
      "source": [
        "text_field.build_vocab(train_data,\n",
        "                       max_size=100000, \n",
        "                       vectors='glove.twitter.27B.100d',\n",
        "                       unk_init = torch.Tensor.normal_) \n",
        "\n",
        "label_field.build_vocab(train_data) \n",
        "\n",
        "# words are stored as integers withn the vocab for internal data structure handling. \n",
        "# let us look at the {'word':respective_integer} of first 15 \n",
        "\n",
        "print({k: text_field.vocab.stoi[k] for k in list(text_field.vocab.stoi)[:15]}) \n",
        "# this is just pure python code to get first N elements from a a dictonary, as a dictonary"
      ]
    },
    {
      "cell_type": "code",
      "execution_count": 7,
      "metadata": {
        "colab": {
          "base_uri": "https://localhost:8080/"
        },
        "id": "v9SINjKbrnIc",
        "outputId": "8e109909-1f31-400f-d94f-47c63e015043"
      },
      "outputs": [
        {
          "name": "stdout",
          "output_type": "stream",
          "text": [
            "Most common 15 words in the vocab are: [('.', 11395), ('#', 9497), ('the', 8689), ('to', 6895), (',', 6725), ('vaccine', 5091), ('a', 5015), (':', 4654), ('measles', 4442), ('of', 4330), ('and', 4023), ('i', 3908), ('in', 3826), ('!', 3747), ('is', 3467)]\n"
          ]
        }
      ],
      "source": [
        "print(f\"Most common 15 words in the vocab are: {text_field.vocab.freqs.most_common(15)}\")\n",
        "# integers i int the second part of each tuples are the frequencies of words in the vocab. They show that how many\n",
        "# number of times this specific word has apprered in the whole training data set"
      ]
    },
    {
      "cell_type": "code",
      "execution_count": 10,
      "metadata": {
        "id": "BPtog-6Qrsi4"
      },
      "outputs": [],
      "source": [
        "train_iter, test_iter = BucketIterator.splits((train_data, test_data), batch_sizes=(128, 32),\n",
        "                                              sort_key=lambda x: len(x.tweet),\n",
        "                                              sort_within_batch=False,\n",
        "                                              device=device) # use the cuda device if available"
      ]
    },
    {
      "cell_type": "markdown",
      "metadata": {
        "id": "KpiNe4q3tDdh"
      },
      "source": [
        "# Define the model"
      ]
    },
    {
      "cell_type": "code",
      "execution_count": 11,
      "metadata": {
        "id": "B3G9bDJutIV3"
      },
      "outputs": [],
      "source": [
        "from torch.nn import functional as F\n",
        "\n",
        "class DeepNetwork(torch.nn.Module):\n",
        "    '''\n",
        "    Deep RNN Network which can have either one both of stacked and bi-directional properties\n",
        "    '''\n",
        "    \n",
        "    def __init__(self, vocab_size, embedding_dim=100, hidden_size=256, \n",
        "                 out_neuron=3, drop=0.53, n_layers=2, bidirectional=True, attention=True, m_type='lstm'):\n",
        "        '''\n",
        "        Constructor of the class which will instantiate the layers while initialisation.\n",
        "        \n",
        "        args:\n",
        "            vocab_size: input dimensions of the first layer {int}\n",
        "            embedding_dim: number of latent features you want to calculate from the input data {int} default=100\n",
        "            hidden_size: neurons you want to have in your hidden RNN layer {int} default=256\n",
        "            out_neuron: number of outputs you want to have at the end.{int} default=1\n",
        "            model: whether to use 'lstm' or 'gru' {string} \n",
        "            drop: proportion of values to dropout from the previous values randomly {float 0-1} default=0.53\n",
        "            attention: if you want to train the model with attention method \n",
        "        out: \n",
        "            return a tensor of shape {batch,out_neuron} as output \n",
        "        '''\n",
        "        super(DeepNetwork,self).__init__()\n",
        "        \n",
        "        self.m_type = m_type\n",
        "        self.attention = attention\n",
        "        self.num_layers = n_layers\n",
        "        \n",
        "        self.embedding = torch.nn.Embedding(in_neuron,embedding_dim)\n",
        "        self.hidden_size = hidden_size\n",
        "        \n",
        "        if self.m_type == 'lstm':\n",
        "            self.lstm = torch.nn.LSTM(embedding_dim, hidden_size, num_layers=n_layers, bidirectional=True)\n",
        "        elif self.m_type == 'gru':\n",
        "            self.gru = torch.nn.GRU(embedding_dim, hidden_size, num_layers=n_layers, bidirectional=True)\n",
        "        \n",
        "        self.dropout = torch.nn.Dropout(drop) \n",
        "        \n",
        "        self.dense1 = torch.nn.Linear(hidden_size*2, out_neuron)\n",
        "        # Last output Linear Layer will have the two Hidden States from both the directions to have the result\n",
        "        \n",
        "    def attention_net(self, rnn_output, final_state):\n",
        "\n",
        "        \"\"\" \n",
        "        Now we will incorporate Attention mechanism in our LSTM/GRU model. In this new model, we will use attention to compute soft alignment score corresponding\n",
        "        between each of the hidden_state and the last hidden_state of the LSTM/GRU. We will be using torch.bmm for the batch matrix multiplication.\n",
        "        \n",
        "        Arguments\n",
        "        ---------\n",
        "        \n",
        "        lstm_output : Final output of the LSTM which contains hidden layer outputs for each sequence.\n",
        "        final_state : Final time-step hidden state (h_n) of the LSTM\n",
        "        \n",
        "        ---------\n",
        "        \n",
        "        Returns : It performs attention mechanism by first computing weights for each of the sequence present in rnn_output and and then finally computing the\n",
        "              new hidden state.\n",
        "              \n",
        "        Tensor Size :\n",
        "              hidden.size() = (batch_size, hidden_size)\n",
        "              attn_weights.size() = (batch_size, num_seq)\n",
        "              soft_attn_weights.size() = (batch_size, num_seq)\n",
        "              new_hidden_state.size() = (batch_size, hidden_size)\n",
        "                \n",
        "        \"\"\"\n",
        "        hidden = final_state.squeeze(0)\n",
        "\n",
        "        attn_weights = torch.bmm(rnn_output, hidden.unsqueeze(2)).squeeze(2)\n",
        "        soft_attn_weights = F.softmax(attn_weights, 1)\n",
        "        new_hidden_state = torch.bmm(rnn_output.transpose(1, 2), soft_attn_weights.unsqueeze(2)).squeeze(2)\n",
        "        \n",
        "        return new_hidden_state\n",
        "\n",
        "\n",
        "    def forward(self,t, batch_size):\n",
        "        '''\n",
        "        Activate the forward propagation\n",
        "        args:\n",
        "            t: tensors in the form of a batch {torch.tensor}\n",
        "        '''\n",
        "        t = self.dropout(self.embedding(t)) # get embeddings and dropout\n",
        "    \n",
        "        if self.m_type == 'lstm':\n",
        "            out, (hidden,_) = self.lstm(t)\n",
        "        elif self.m_type == 'gru':\n",
        "            out, hidden = self.gru(t)\n",
        "\n",
        "        curr_batch_size = batch_size[1]\n",
        "\n",
        "        \n",
        "\n",
        "        if self.attention == True:\n",
        "          final_hidden_state = hidden.reshape(self.num_layers, curr_batch_size, -1)[0]  # get the correct shape for final hidden shape\n",
        "          out = out.permute(1, 0, 2)    # = out.T\n",
        "          attn_output = self.attention_net(out, final_hidden_state)\n",
        "          \n",
        "          t = self.dropout(attn_output)  \n",
        "\n",
        "        elif self.attention == False:                                    # after attention\n",
        "          # Concatenate the last and second last hidden. One is from backward and one is from forward\n",
        "          t = self.dropout(torch.cat((hidden[-2,:,:],hidden[-1,:,:]),dim=1))    # before attention\n",
        "\n",
        "        out = self.dense1(t)\n",
        "\n",
        "        return out"
      ]
    },
    {
      "cell_type": "markdown",
      "metadata": {
        "id": "VNfbrEkmgrZ6"
      },
      "source": [
        "# Tranning and evaluate the neural network"
      ]
    },
    {
      "cell_type": "code",
      "execution_count": 78,
      "metadata": {
        "colab": {
          "base_uri": "https://localhost:8080/",
          "height": 165,
          "referenced_widgets": [
            "2ee02ce32e864f358b598bd1e135bd30",
            "cd12413fa21c4401a55d0906fb493ade",
            "8d2c1e970983411abbd657b4a26be8a2",
            "7a900758667e4390a5d1b8200330ccad",
            "f206add21b4b49449704f9845070d503",
            "568649eddfa146d5b0f6609186976a7f",
            "f89636252f044ba5bdf070020f2acdc8",
            "5970cb89cacd4a98a58ded9af1b9c55f",
            "dd1d3bac805042ea8b38e17187e2ee26",
            "67839ef18c6c47f8b6fa09d050a8ab48",
            "ea4e50615e434b9d81a8884a814eb689",
            "3edf9e85f1444d059c687d67dd6a20bf",
            "65d8ddc7b70f4cc299dd69f9f920269d",
            "27ba942136094da1b6bfeaeebf7f7bdc",
            "6140e9d08fbf4504a1ad2dc5b2547fe6",
            "0faed2e617cf48458e2627b6dc1d8e89",
            "ef7f8390e8a041ad93229105c7212f2c",
            "975695013b604416a3936f61983aaec1",
            "dd2345bda9114002b40d6f01c94edae4",
            "206fc125173f48e78a314416065084e8",
            "0545e945991845c19dc7279714aec676",
            "d8f060d048ed43528a53c8838e7245fb",
            "082ebf9ee98a450b87f8f40b02bdd01a",
            "6cea629edbc749c2a4accaf661e783ef",
            "684aa1034291460dab58574fd996fd36",
            "ed5f8505a27c4d83af6293fc3a52dbb8",
            "2c277289f9bb4c889adff7752011118f",
            "c59d33527dc34129ad4df40bcb782833",
            "d13adfc31c6f4585a8f9e58f32e640ea",
            "2a7164991dee4d9a84292d5187fa7f64",
            "f7010813e05d4e3b9805ab27b62335b7",
            "85ab9e851c724043b8ed8e9e93d5b8ed",
            "527e3d4ff1a24033bb8a4adad058ec05"
          ]
        },
        "id": "PzMrpWcFgofJ",
        "outputId": "975255a2-d772-47ff-d02c-9d98c1bf88a8"
      },
      "outputs": [
        {
          "data": {
            "application/vnd.jupyter.widget-view+json": {
              "model_id": "2ee02ce32e864f358b598bd1e135bd30",
              "version_major": 2,
              "version_minor": 0
            },
            "text/plain": [
              "Epoch: 1:   0%|          | 0/125 [00:00<?, ?it/s]"
            ]
          },
          "metadata": {},
          "output_type": "display_data"
        },
        {
          "name": "stdout",
          "output_type": "stream",
          "text": [
            " End of Epoch: 1  |  Train Loss: 0.826  |  Val Loss: 0.737  |  Train Acc: 61.72%  |  Val Acc: 67.04% \n"
          ]
        },
        {
          "data": {
            "application/vnd.jupyter.widget-view+json": {
              "model_id": "3edf9e85f1444d059c687d67dd6a20bf",
              "version_major": 2,
              "version_minor": 0
            },
            "text/plain": [
              "Epoch: 2:   0%|          | 0/125 [00:00<?, ?it/s]"
            ]
          },
          "metadata": {},
          "output_type": "display_data"
        },
        {
          "name": "stdout",
          "output_type": "stream",
          "text": [
            " End of Epoch: 2  |  Train Loss: 0.688  |  Val Loss: 0.661  |  Train Acc: 70.28%  |  Val Acc: 71.14% \n"
          ]
        },
        {
          "data": {
            "application/vnd.jupyter.widget-view+json": {
              "model_id": "082ebf9ee98a450b87f8f40b02bdd01a",
              "version_major": 2,
              "version_minor": 0
            },
            "text/plain": [
              "Epoch: 3:   0%|          | 0/125 [00:00<?, ?it/s]"
            ]
          },
          "metadata": {},
          "output_type": "display_data"
        },
        {
          "name": "stdout",
          "output_type": "stream",
          "text": [
            " End of Epoch: 3  |  Train Loss: 0.586  |  Val Loss: 0.657  |  Train Acc: 75.88%  |  Val Acc: 72.18% \n"
          ]
        }
      ],
      "source": [
        "in_neuron = len(text_field.vocab)\n",
        "lr = 3e-3 # learning rate = 0.0004\n",
        "embedding_dim = 100\n",
        "hidden_size = 125\n",
        "num_layers = 2\n",
        "out_classes = 3\n",
        "Dropout = 0.4\n",
        "bidirectional = True\n",
        "\n",
        "# Add attention (question 2)\n",
        "# Change this if you want to train the model without attention\n",
        "attention = True\n",
        "\n",
        "network = DeepNetwork(in_neuron, embedding_dim, hidden_size, out_classes, \n",
        "                      Dropout, num_layers, bidirectional, attention, m_type='gru')\n",
        "\n",
        "optimizer = torch.optim.Adam(network.parameters(), lr=lr) # use Adam Optimizer\n",
        "loss_fn = torch.nn.CrossEntropyLoss() \n",
        "\n",
        "# loss_fn = torch.nn.CrossEntropyLoss(weight=class_weights, reduction='mean')   # weights gave me worst results  \n",
        "## Getting all embeddings from glove gave me worst results\n",
        "# weights = text_field.vocab.vectors\n",
        "# network.embedding.weights = torch.nn.Parameter(weights, requires_grad=False)\n",
        "\n",
        "pretrained_embeddings = text_field.vocab.vectors  # get all the 100000+2 vectors\n",
        "network.embedding.weight.data.copy_(pretrained_embeddings) #copy embeddings as the weights to the layer\n",
        "\n",
        "unknown_index = text_field.vocab.stoi[text_field.unk_token] # get index of unknown token\n",
        "padding_index = text_field.vocab.stoi[text_field.pad_token] # get index of padding token\n",
        "\n",
        "network.embedding.weight.data[unknown_index] = torch.zeros(embedding_dim) #change values to zeros\n",
        "network.embedding.weight.data[padding_index] = torch.zeros(embedding_dim)\n",
        "\n",
        "\n",
        "\n",
        "if torch.cuda.is_available():\n",
        "    network.cuda() # activate GPU spport\n",
        "    \n",
        "\n",
        "train_losses = []\n",
        "test_losses =  []\n",
        "\n",
        "EPOCHS = 3 \n",
        "\n",
        "for epoch in range(EPOCHS):\n",
        "\n",
        "    epoch_loss = [] # loss per epoch\n",
        "    epoch_acc = [] # accuracy per epoch\n",
        "\n",
        "    total_loss = []  # total loss for the whole incoming data\n",
        "    total_acc = []   # total accuracy for the whole data\n",
        "    \n",
        "    \n",
        "    \n",
        "    network.train() # set the model in training mode as it requires gradients calculation and updtion\n",
        "    with torch.set_grad_enabled(True):\n",
        "\n",
        "      for batch in tqdm(train_iter,f\"Epoch: {epoch+1}\"): \n",
        "          # data will be shown to model in batches per epoch to calculate gradients per batch\n",
        "          \n",
        "          optimizer.zero_grad() # clear all the calculated grdients from previous step\n",
        "          \n",
        "          predictions = network(batch.tweet, batch.tweet.size()) # squeeze out the extra dimension [batch_size,1]\n",
        "\n",
        "\n",
        "          loss = loss_fn(predictions, batch.label) # calculate loss on the whole batch\n",
        "          \n",
        "\n",
        "          _, pred_classes = torch.max(predictions, 1)   # from softmax we get the index of the maximum value \n",
        "\n",
        "          \n",
        "          correct_preds = (pred_classes == batch.label).float()\n",
        "          # get a floating tensors of predicted classes  which match original true class \n",
        "          \n",
        "          accuracy = correct_preds.sum()/len(correct_preds) # it'll be a tensor of shape [1,]\n",
        "          \n",
        "          # below two are must and should be used only after calculation of Loss by optimizer\n",
        "          loss.backward() # Start Back Propagation so that model can calculate gradients based on loss\n",
        "\n",
        "          # gradient clipping\n",
        "          torch.nn.utils.clip_grad_value_(network.parameters(), clip_value=0.2)\n",
        "\n",
        "\n",
        "          optimizer.step() # update the weights based on gradient corresponding to each neuron\n",
        "          \n",
        "          \n",
        "          epoch_loss.append(loss.item())  # add the loss for this batch to calculate the loss for whole epoch\n",
        "          epoch_acc.append(accuracy.item()) # .item() tend to give the exact number from the tensor of shape [1,]\n",
        "\n",
        "          time.sleep(0.001) # for tqdm progess bar\n",
        "\n",
        "\n",
        "    train_loss, train_acc = np.mean(epoch_loss), np.mean(epoch_acc)\n",
        "\n",
        "    \n",
        "    network.eval() # set the model in evaluation mode to not compute gradients and reduce overhead\n",
        "    with torch.no_grad(): # turn of gradients calculation \n",
        "        \n",
        "        for batch in test_iter:\n",
        "\n",
        "            predictions = network(batch.tweet, batch.tweet.size()).squeeze(1) # squeeze out the extra dimension [batch_size,1]\n",
        "\n",
        "            loss = loss_fn(predictions, batch.label)\n",
        "\n",
        "            _, pred_classes = torch.max(predictions, 1)\n",
        "\n",
        "            correct_preds = (pred_classes == batch.label).float()\n",
        "\n",
        "            accuracy = correct_preds.sum()/len(correct_preds)\n",
        "\n",
        "            total_loss.append(loss.item()) \n",
        "            total_acc.append(accuracy.item())\n",
        "\n",
        "      \n",
        "    test_loss, test_acc = np.mean(total_loss), np.mean(total_acc)   # get the average test loss and the average accuracy\n",
        "\n",
        "    train_losses.append(train_loss)\n",
        "    test_losses.append(test_loss)\n",
        "\n",
        "    tqdm.write(f''' End of Epoch: {epoch+1}  |  Train Loss: {train_loss:.3f}  |  Val Loss: {test_loss:.3f}  |  Train Acc: {train_acc*100:.2f}%  |  Val Acc: {test_acc*100:.2f}% ''')"
      ]
    },
    {
      "cell_type": "markdown",
      "metadata": {
        "id": "ADLv4m4Zrvif"
      },
      "source": [
        "## Predictions function"
      ]
    },
    {
      "cell_type": "code",
      "execution_count": 79,
      "metadata": {
        "id": "9_UIlgEsr2XZ"
      },
      "outputs": [],
      "source": [
        "def get_scores(network, val_test_iter, optimizer, loss_fn):\n",
        "    '''\n",
        "    evaluate the network using given parameters\n",
        "    args:\n",
        "        network: any Neural Network object \n",
        "        val_test_iter: iterator of validation/test data\n",
        "        loss_fn: appropriate loss function\n",
        "    out:\n",
        "        a tuple of (average_loss,average_accuracy) of floating values for the incoming dataset\n",
        "    '''\n",
        "    network.eval() # set the model in evaluation mode to not compute gradients and reduce overhead\n",
        "    predict_labels = [] # the predicted labels\n",
        "    targets = []        # the true labes\n",
        "    preds_probs = []    # the predictions from network (based on cross entropy loss - ) \n",
        "\n",
        "    with torch.no_grad(): # turn of gradients calculation \n",
        "        \n",
        "        for ind, batch in enumerate(val_test_iter):\n",
        "\n",
        "            predictions = network(batch.tweet, batch.tweet.size())\n",
        "\n",
        "            loss = loss_fn(predictions, batch.label)\n",
        "\n",
        "            preds_probs.extend(predictions.tolist())\n",
        "\n",
        "            h, pred_classes = torch.max(predictions, 1) # get the index of the maximum value for each label\n",
        "\n",
        "            predict_labels.extend(pred_classes.tolist()) \n",
        "            targets.extend(batch.label.tolist())\n",
        "\n",
        "    return predict_labels, targets, preds_probs"
      ]
    },
    {
      "cell_type": "code",
      "execution_count": 80,
      "metadata": {
        "colab": {
          "base_uri": "https://localhost:8080/"
        },
        "id": "UK5wEY1321qz",
        "outputId": "7a5d3fb4-4adb-4083-f53b-69796d165fae"
      },
      "outputs": [
        {
          "name": "stdout",
          "output_type": "stream",
          "text": [
            "              precision    recall  f1-score   support\n",
            "\n",
            "           0      0.814     0.764     0.788      1065\n",
            "           1      0.513     0.588     0.548       296\n",
            "           2      0.704     0.721     0.712       921\n",
            "\n",
            "    accuracy                          0.724      2282\n",
            "   macro avg      0.677     0.691     0.683      2282\n",
            "weighted avg      0.731     0.724     0.727      2282\n",
            "\n"
          ]
        }
      ],
      "source": [
        "from sklearn import metrics\n",
        "\n",
        "predictions, targets, preds_probs = get_scores(network, test_iter, optimizer, loss_fn)\n",
        "\n",
        "print(metrics.classification_report(targets, predictions, digits=3))"
      ]
    },
    {
      "cell_type": "markdown",
      "metadata": {
        "id": "lwkzPRlNOSYt"
      },
      "source": [
        "## Plot loss vs epoch"
      ]
    },
    {
      "cell_type": "code",
      "execution_count": 81,
      "metadata": {
        "colab": {
          "base_uri": "https://localhost:8080/",
          "height": 353
        },
        "id": "dBLzSSYJOSS9",
        "outputId": "0f0479ac-9eca-4039-994e-cd24bdde7170"
      },
      "outputs": [
        {
          "data": {
            "text/plain": [
              "<matplotlib.legend.Legend at 0x7f0853a1c9d0>"
            ]
          },
          "execution_count": 81,
          "metadata": {},
          "output_type": "execute_result"
        },
        {
          "data": {
            "image/png": "[encoded data removed]",
            "text/plain": [
              "<Figure size 864x360 with 1 Axes>"
            ]
          },
          "metadata": {
            "needs_background": "light"
          },
          "output_type": "display_data"
        }
      ],
      "source": [
        "#Plotting loss vs epochs.\n",
        "plt.figure(figsize=(12, 5))\n",
        "\n",
        "plt.xlabel('Epochs')\n",
        "plt.ylabel('Loss')\n",
        "2\n",
        "plt.plot(test_losses, label='Test Loss')\n",
        "plt.legend(frameon=False)"
      ]
    },
    {
      "cell_type": "markdown",
      "metadata": {
        "id": "-HnLujGv7uxH"
      },
      "source": [
        "# ROC curves\n"
      ]
    },
    {
      "cell_type": "code",
      "execution_count": 82,
      "metadata": {
        "colab": {
          "base_uri": "https://localhost:8080/",
          "height": 279
        },
        "id": "Mf06-0bl7xa_",
        "outputId": "908d20dc-7654-485a-9e39-adf9e366ccc0"
      },
      "outputs": [
        {
          "data": {
            "image/png": "[encoded data removed]",
            "text/plain": [
              "<Figure size 432x288 with 1 Axes>"
            ]
          },
          "metadata": {
            "needs_background": "light"
          },
          "output_type": "display_data"
        }
      ],
      "source": [
        "from torch.autograd import Variable\n",
        "from sklearn.metrics import roc_curve,auc\n",
        "\n",
        "predictions = torch.tensor(preds_probs)\n",
        "\n",
        "# binarize the the labels\n",
        "y_test_roc = []\n",
        "for tweet in test_iter:\n",
        "  for pred in tweet.label:\n",
        "    if pred == 0:\n",
        "      y_test_roc.append([1, 0, 0])\n",
        "    elif pred == 1:\n",
        "      y_test_roc.append([0, 1, 0])\n",
        "    elif pred == 2:\n",
        "      y_test_roc.append([0, 0, 1])\n",
        "\n",
        "\n",
        "n_classes = 3\n",
        "predictions = predictions\n",
        "predictions = Variable(predictions, requires_grad=True)\n",
        "predictions = predictions.detach().numpy()\n",
        "y_test_roc = np.array(y_test_roc)\n",
        "\n",
        "# Compute ROC curve and ROC area for each class\n",
        "fpr = dict()\n",
        "tpr = dict()\n",
        "roc_auc = dict()\n",
        "\n",
        "for i in range(n_classes):\n",
        "    fpr[i], tpr[i], _ = roc_curve(y_test_roc[:, i], predictions[:, i])\n",
        "    roc_auc[i] = auc(fpr[i], tpr[i])\n",
        "\n",
        "# Compute micro-average ROC curve and ROC area\n",
        "fpr[\"micro\"], tpr[\"micro\"], _ = roc_curve(y_test_roc.ravel(), predictions.ravel())\n",
        "roc_auc[\"micro\"] = auc(fpr[\"micro\"], tpr[\"micro\"])\n",
        "\n",
        "\n",
        "# Plot ROC curve\n",
        "plt.figure()\n",
        "plt.plot(fpr[\"micro\"], tpr[\"micro\"],\n",
        "         label='micro-average ROC curve (area = {0:0.2f})'\n",
        "               ''.format(roc_auc[\"micro\"]))\n",
        "for i in range(n_classes):\n",
        "    plt.plot(fpr[i], tpr[i], label='ROC curve of class {0} (area = {1:0.2f})'\n",
        "                                   ''.format(i, roc_auc[i]))\n",
        "\n",
        "plt.plot([0, 1], [0, 1], 'k--')\n",
        "plt.xlim([0.0, 1.0])\n",
        "plt.ylim([0.0, 1.05])\n",
        "plt.xlabel('False Positive Rate')\n",
        "plt.ylabel('True Positive Rate')\n",
        "plt.legend(loc=\"lower right\")\n",
        "plt.show()"
      ]
    }
  ],
  "metadata": {
    "accelerator": "GPU",
    "colab": {
      "collapsed_sections": [],
      "name": "LSTM_GRU.ipynb",
      "provenance": []
    },
    "kernelspec": {
      "display_name": "Python 3",
      "name": "python3"
    },
    "language_info": {
      "name": "python"
    },
    "widgets": {
      "application/vnd.jupyter.widget-state+json": {
        "0545e945991845c19dc7279714aec676": {
          "model_module": "@jupyter-widgets/controls",
          "model_module_version": "1.5.0",
          "model_name": "DescriptionStyleModel",
          "state": {
            "_model_module": "@jupyter-widgets/controls",
            "_model_module_version": "1.5.0",
            "_model_name": "DescriptionStyleModel",
            "_view_count": null,
            "_view_module": "@jupyter-widgets/base",
            "_view_module_version": "1.2.0",
            "_view_name": "StyleView",
            "description_width": ""
          }
        },
        "082ebf9ee98a450b87f8f40b02bdd01a": {
          "model_module": "@jupyter-widgets/controls",
          "model_module_version": "1.5.0",
          "model_name": "HBoxModel",
          "state": {
            "_dom_classes": [],
            "_model_module": "@jupyter-widgets/controls",
            "_model_module_version": "1.5.0",
            "_model_name": "HBoxModel",
            "_view_count": null,
            "_view_module": "@jupyter-widgets/controls",
            "_view_module_version": "1.5.0",
            "_view_name": "HBoxView",
            "box_style": "",
            "children": [
              "IPY_MODEL_684aa1034291460dab58574fd996fd36",
              "IPY_MODEL_ed5f8505a27c4d83af6293fc3a52dbb8",
              "IPY_MODEL_2c277289f9bb4c889adff7752011118f"
            ],
            "layout": "IPY_MODEL_6cea629edbc749c2a4accaf661e783ef"
          }
        },
        "0faed2e617cf48458e2627b6dc1d8e89": {
          "model_module": "@jupyter-widgets/controls",
          "model_module_version": "1.5.0",
          "model_name": "HTMLModel",
          "state": {
            "_dom_classes": [],
            "_model_module": "@jupyter-widgets/controls",
            "_model_module_version": "1.5.0",
            "_model_name": "HTMLModel",
            "_view_count": null,
            "_view_module": "@jupyter-widgets/controls",
            "_view_module_version": "1.5.0",
            "_view_name": "HTMLView",
            "description": "",
            "description_tooltip": null,
            "layout": "IPY_MODEL_d8f060d048ed43528a53c8838e7245fb",
            "placeholder": "​",
            "style": "IPY_MODEL_0545e945991845c19dc7279714aec676",
            "value": " 125/125 [00:02&lt;00:00, 46.02it/s]"
          }
        },
        "206fc125173f48e78a314416065084e8": {
          "model_module": "@jupyter-widgets/base",
          "model_module_version": "1.2.0",
          "model_name": "LayoutModel",
          "state": {
            "_model_module": "@jupyter-widgets/base",
            "_model_module_version": "1.2.0",
            "_model_name": "LayoutModel",
            "_view_count": null,
            "_view_module": "@jupyter-widgets/base",
            "_view_module_version": "1.2.0",
            "_view_name": "LayoutView",
            "align_content": null,
            "align_items": null,
            "align_self": null,
            "border": null,
            "bottom": null,
            "display": null,
            "flex": null,
            "flex_flow": null,
            "grid_area": null,
            "grid_auto_columns": null,
            "grid_auto_flow": null,
            "grid_auto_rows": null,
            "grid_column": null,
            "grid_gap": null,
            "grid_row": null,
            "grid_template_areas": null,
            "grid_template_columns": null,
            "grid_template_rows": null,
            "height": null,
            "justify_content": null,
            "justify_items": null,
            "left": null,
            "margin": null,
            "max_height": null,
            "max_width": null,
            "min_height": null,
            "min_width": null,
            "object_fit": null,
            "object_position": null,
            "order": null,
            "overflow": null,
            "overflow_x": null,
            "overflow_y": null,
            "padding": null,
            "right": null,
            "top": null,
            "visibility": null,
            "width": null
          }
        },
        "27ba942136094da1b6bfeaeebf7f7bdc": {
          "model_module": "@jupyter-widgets/controls",
          "model_module_version": "1.5.0",
          "model_name": "HTMLModel",
          "state": {
            "_dom_classes": [],
            "_model_module": "@jupyter-widgets/controls",
            "_model_module_version": "1.5.0",
            "_model_name": "HTMLModel",
            "_view_count": null,
            "_view_module": "@jupyter-widgets/controls",
            "_view_module_version": "1.5.0",
            "_view_name": "HTMLView",
            "description": "",
            "description_tooltip": null,
            "layout": "IPY_MODEL_975695013b604416a3936f61983aaec1",
            "placeholder": "​",
            "style": "IPY_MODEL_ef7f8390e8a041ad93229105c7212f2c",
            "value": "Epoch: 2: 100%"
          }
        },
        "2a7164991dee4d9a84292d5187fa7f64": {
          "model_module": "@jupyter-widgets/controls",
          "model_module_version": "1.5.0",
          "model_name": "ProgressStyleModel",
          "state": {
            "_model_module": "@jupyter-widgets/controls",
            "_model_module_version": "1.5.0",
            "_model_name": "ProgressStyleModel",
            "_view_count": null,
            "_view_module": "@jupyter-widgets/base",
            "_view_module_version": "1.2.0",
            "_view_name": "StyleView",
            "bar_color": null,
            "description_width": ""
          }
        },
        "2c277289f9bb4c889adff7752011118f": {
          "model_module": "@jupyter-widgets/controls",
          "model_module_version": "1.5.0",
          "model_name": "HTMLModel",
          "state": {
            "_dom_classes": [],
            "_model_module": "@jupyter-widgets/controls",
            "_model_module_version": "1.5.0",
            "_model_name": "HTMLModel",
            "_view_count": null,
            "_view_module": "@jupyter-widgets/controls",
            "_view_module_version": "1.5.0",
            "_view_name": "HTMLView",
            "description": "",
            "description_tooltip": null,
            "layout": "IPY_MODEL_527e3d4ff1a24033bb8a4adad058ec05",
            "placeholder": "​",
            "style": "IPY_MODEL_85ab9e851c724043b8ed8e9e93d5b8ed",
            "value": " 125/125 [00:02&lt;00:00, 45.54it/s]"
          }
        },
        "2ee02ce32e864f358b598bd1e135bd30": {
          "model_module": "@jupyter-widgets/controls",
          "model_module_version": "1.5.0",
          "model_name": "HBoxModel",
          "state": {
            "_dom_classes": [],
            "_model_module": "@jupyter-widgets/controls",
            "_model_module_version": "1.5.0",
            "_model_name": "HBoxModel",
            "_view_count": null,
            "_view_module": "@jupyter-widgets/controls",
            "_view_module_version": "1.5.0",
            "_view_name": "HBoxView",
            "box_style": "",
            "children": [
              "IPY_MODEL_8d2c1e970983411abbd657b4a26be8a2",
              "IPY_MODEL_7a900758667e4390a5d1b8200330ccad",
              "IPY_MODEL_f206add21b4b49449704f9845070d503"
            ],
            "layout": "IPY_MODEL_cd12413fa21c4401a55d0906fb493ade"
          }
        },
        "3edf9e85f1444d059c687d67dd6a20bf": {
          "model_module": "@jupyter-widgets/controls",
          "model_module_version": "1.5.0",
          "model_name": "HBoxModel",
          "state": {
            "_dom_classes": [],
            "_model_module": "@jupyter-widgets/controls",
            "_model_module_version": "1.5.0",
            "_model_name": "HBoxModel",
            "_view_count": null,
            "_view_module": "@jupyter-widgets/controls",
            "_view_module_version": "1.5.0",
            "_view_name": "HBoxView",
            "box_style": "",
            "children": [
              "IPY_MODEL_27ba942136094da1b6bfeaeebf7f7bdc",
              "IPY_MODEL_6140e9d08fbf4504a1ad2dc5b2547fe6",
              "IPY_MODEL_0faed2e617cf48458e2627b6dc1d8e89"
            ],
            "layout": "IPY_MODEL_65d8ddc7b70f4cc299dd69f9f920269d"
          }
        },
        "527e3d4ff1a24033bb8a4adad058ec05": {
          "model_module": "@jupyter-widgets/base",
          "model_module_version": "1.2.0",
          "model_name": "LayoutModel",
          "state": {
            "_model_module": "@jupyter-widgets/base",
            "_model_module_version": "1.2.0",
            "_model_name": "LayoutModel",
            "_view_count": null,
            "_view_module": "@jupyter-widgets/base",
            "_view_module_version": "1.2.0",
            "_view_name": "LayoutView",
            "align_content": null,
            "align_items": null,
            "align_self": null,
            "border": null,
            "bottom": null,
            "display": null,
            "flex": null,
            "flex_flow": null,
            "grid_area": null,
            "grid_auto_columns": null,
            "grid_auto_flow": null,
            "grid_auto_rows": null,
            "grid_column": null,
            "grid_gap": null,
            "grid_row": null,
            "grid_template_areas": null,
            "grid_template_columns": null,
            "grid_template_rows": null,
            "height": null,
            "justify_content": null,
            "justify_items": null,
            "left": null,
            "margin": null,
            "max_height": null,
            "max_width": null,
            "min_height": null,
            "min_width": null,
            "object_fit": null,
            "object_position": null,
            "order": null,
            "overflow": null,
            "overflow_x": null,
            "overflow_y": null,
            "padding": null,
            "right": null,
            "top": null,
            "visibility": null,
            "width": null
          }
        },
        "568649eddfa146d5b0f6609186976a7f": {
          "model_module": "@jupyter-widgets/controls",
          "model_module_version": "1.5.0",
          "model_name": "DescriptionStyleModel",
          "state": {
            "_model_module": "@jupyter-widgets/controls",
            "_model_module_version": "1.5.0",
            "_model_name": "DescriptionStyleModel",
            "_view_count": null,
            "_view_module": "@jupyter-widgets/base",
            "_view_module_version": "1.2.0",
            "_view_name": "StyleView",
            "description_width": ""
          }
        },
        "5970cb89cacd4a98a58ded9af1b9c55f": {
          "model_module": "@jupyter-widgets/controls",
          "model_module_version": "1.5.0",
          "model_name": "ProgressStyleModel",
          "state": {
            "_model_module": "@jupyter-widgets/controls",
            "_model_module_version": "1.5.0",
            "_model_name": "ProgressStyleModel",
            "_view_count": null,
            "_view_module": "@jupyter-widgets/base",
            "_view_module_version": "1.2.0",
            "_view_name": "StyleView",
            "bar_color": null,
            "description_width": ""
          }
        },
        "6140e9d08fbf4504a1ad2dc5b2547fe6": {
          "model_module": "@jupyter-widgets/controls",
          "model_module_version": "1.5.0",
          "model_name": "FloatProgressModel",
          "state": {
            "_dom_classes": [],
            "_model_module": "@jupyter-widgets/controls",
            "_model_module_version": "1.5.0",
            "_model_name": "FloatProgressModel",
            "_view_count": null,
            "_view_module": "@jupyter-widgets/controls",
            "_view_module_version": "1.5.0",
            "_view_name": "ProgressView",
            "bar_style": "success",
            "description": "",
            "description_tooltip": null,
            "layout": "IPY_MODEL_206fc125173f48e78a314416065084e8",
            "max": 125,
            "min": 0,
            "orientation": "horizontal",
            "style": "IPY_MODEL_dd2345bda9114002b40d6f01c94edae4",
            "value": 125
          }
        },
        "65d8ddc7b70f4cc299dd69f9f920269d": {
          "model_module": "@jupyter-widgets/base",
          "model_module_version": "1.2.0",
          "model_name": "LayoutModel",
          "state": {
            "_model_module": "@jupyter-widgets/base",
            "_model_module_version": "1.2.0",
            "_model_name": "LayoutModel",
            "_view_count": null,
            "_view_module": "@jupyter-widgets/base",
            "_view_module_version": "1.2.0",
            "_view_name": "LayoutView",
            "align_content": null,
            "align_items": null,
            "align_self": null,
            "border": null,
            "bottom": null,
            "display": null,
            "flex": null,
            "flex_flow": null,
            "grid_area": null,
            "grid_auto_columns": null,
            "grid_auto_flow": null,
            "grid_auto_rows": null,
            "grid_column": null,
            "grid_gap": null,
            "grid_row": null,
            "grid_template_areas": null,
            "grid_template_columns": null,
            "grid_template_rows": null,
            "height": null,
            "justify_content": null,
            "justify_items": null,
            "left": null,
            "margin": null,
            "max_height": null,
            "max_width": null,
            "min_height": null,
            "min_width": null,
            "object_fit": null,
            "object_position": null,
            "order": null,
            "overflow": null,
            "overflow_x": null,
            "overflow_y": null,
            "padding": null,
            "right": null,
            "top": null,
            "visibility": null,
            "width": null
          }
        },
        "67839ef18c6c47f8b6fa09d050a8ab48": {
          "model_module": "@jupyter-widgets/controls",
          "model_module_version": "1.5.0",
          "model_name": "DescriptionStyleModel",
          "state": {
            "_model_module": "@jupyter-widgets/controls",
            "_model_module_version": "1.5.0",
            "_model_name": "DescriptionStyleModel",
            "_view_count": null,
            "_view_module": "@jupyter-widgets/base",
            "_view_module_version": "1.2.0",
            "_view_name": "StyleView",
            "description_width": ""
          }
        },
        "684aa1034291460dab58574fd996fd36": {
          "model_module": "@jupyter-widgets/controls",
          "model_module_version": "1.5.0",
          "model_name": "HTMLModel",
          "state": {
            "_dom_classes": [],
            "_model_module": "@jupyter-widgets/controls",
            "_model_module_version": "1.5.0",
            "_model_name": "HTMLModel",
            "_view_count": null,
            "_view_module": "@jupyter-widgets/controls",
            "_view_module_version": "1.5.0",
            "_view_name": "HTMLView",
            "description": "",
            "description_tooltip": null,
            "layout": "IPY_MODEL_d13adfc31c6f4585a8f9e58f32e640ea",
            "placeholder": "​",
            "style": "IPY_MODEL_c59d33527dc34129ad4df40bcb782833",
            "value": "Epoch: 3: 100%"
          }
        },
        "6cea629edbc749c2a4accaf661e783ef": {
          "model_module": "@jupyter-widgets/base",
          "model_module_version": "1.2.0",
          "model_name": "LayoutModel",
          "state": {
            "_model_module": "@jupyter-widgets/base",
            "_model_module_version": "1.2.0",
            "_model_name": "LayoutModel",
            "_view_count": null,
            "_view_module": "@jupyter-widgets/base",
            "_view_module_version": "1.2.0",
            "_view_name": "LayoutView",
            "align_content": null,
            "align_items": null,
            "align_self": null,
            "border": null,
            "bottom": null,
            "display": null,
            "flex": null,
            "flex_flow": null,
            "grid_area": null,
            "grid_auto_columns": null,
            "grid_auto_flow": null,
            "grid_auto_rows": null,
            "grid_column": null,
            "grid_gap": null,
            "grid_row": null,
            "grid_template_areas": null,
            "grid_template_columns": null,
            "grid_template_rows": null,
            "height": null,
            "justify_content": null,
            "justify_items": null,
            "left": null,
            "margin": null,
            "max_height": null,
            "max_width": null,
            "min_height": null,
            "min_width": null,
            "object_fit": null,
            "object_position": null,
            "order": null,
            "overflow": null,
            "overflow_x": null,
            "overflow_y": null,
            "padding": null,
            "right": null,
            "top": null,
            "visibility": null,
            "width": null
          }
        },
        "7a900758667e4390a5d1b8200330ccad": {
          "model_module": "@jupyter-widgets/controls",
          "model_module_version": "1.5.0",
          "model_name": "FloatProgressModel",
          "state": {
            "_dom_classes": [],
            "_model_module": "@jupyter-widgets/controls",
            "_model_module_version": "1.5.0",
            "_model_name": "FloatProgressModel",
            "_view_count": null,
            "_view_module": "@jupyter-widgets/controls",
            "_view_module_version": "1.5.0",
            "_view_name": "ProgressView",
            "bar_style": "success",
            "description": "",
            "description_tooltip": null,
            "layout": "IPY_MODEL_dd1d3bac805042ea8b38e17187e2ee26",
            "max": 125,
            "min": 0,
            "orientation": "horizontal",
            "style": "IPY_MODEL_5970cb89cacd4a98a58ded9af1b9c55f",
            "value": 125
          }
        },
        "85ab9e851c724043b8ed8e9e93d5b8ed": {
          "model_module": "@jupyter-widgets/controls",
          "model_module_version": "1.5.0",
          "model_name": "DescriptionStyleModel",
          "state": {
            "_model_module": "@jupyter-widgets/controls",
            "_model_module_version": "1.5.0",
            "_model_name": "DescriptionStyleModel",
            "_view_count": null,
            "_view_module": "@jupyter-widgets/base",
            "_view_module_version": "1.2.0",
            "_view_name": "StyleView",
            "description_width": ""
          }
        },
        "8d2c1e970983411abbd657b4a26be8a2": {
          "model_module": "@jupyter-widgets/controls",
          "model_module_version": "1.5.0",
          "model_name": "HTMLModel",
          "state": {
            "_dom_classes": [],
            "_model_module": "@jupyter-widgets/controls",
            "_model_module_version": "1.5.0",
            "_model_name": "HTMLModel",
            "_view_count": null,
            "_view_module": "@jupyter-widgets/controls",
            "_view_module_version": "1.5.0",
            "_view_name": "HTMLView",
            "description": "",
            "description_tooltip": null,
            "layout": "IPY_MODEL_f89636252f044ba5bdf070020f2acdc8",
            "placeholder": "​",
            "style": "IPY_MODEL_568649eddfa146d5b0f6609186976a7f",
            "value": "Epoch: 1: 100%"
          }
        },
        "975695013b604416a3936f61983aaec1": {
          "model_module": "@jupyter-widgets/base",
          "model_module_version": "1.2.0",
          "model_name": "LayoutModel",
          "state": {
            "_model_module": "@jupyter-widgets/base",
            "_model_module_version": "1.2.0",
            "_model_name": "LayoutModel",
            "_view_count": null,
            "_view_module": "@jupyter-widgets/base",
            "_view_module_version": "1.2.0",
            "_view_name": "LayoutView",
            "align_content": null,
            "align_items": null,
            "align_self": null,
            "border": null,
            "bottom": null,
            "display": null,
            "flex": null,
            "flex_flow": null,
            "grid_area": null,
            "grid_auto_columns": null,
            "grid_auto_flow": null,
            "grid_auto_rows": null,
            "grid_column": null,
            "grid_gap": null,
            "grid_row": null,
            "grid_template_areas": null,
            "grid_template_columns": null,
            "grid_template_rows": null,
            "height": null,
            "justify_content": null,
            "justify_items": null,
            "left": null,
            "margin": null,
            "max_height": null,
            "max_width": null,
            "min_height": null,
            "min_width": null,
            "object_fit": null,
            "object_position": null,
            "order": null,
            "overflow": null,
            "overflow_x": null,
            "overflow_y": null,
            "padding": null,
            "right": null,
            "top": null,
            "visibility": null,
            "width": null
          }
        },
        "c59d33527dc34129ad4df40bcb782833": {
          "model_module": "@jupyter-widgets/controls",
          "model_module_version": "1.5.0",
          "model_name": "DescriptionStyleModel",
          "state": {
            "_model_module": "@jupyter-widgets/controls",
            "_model_module_version": "1.5.0",
            "_model_name": "DescriptionStyleModel",
            "_view_count": null,
            "_view_module": "@jupyter-widgets/base",
            "_view_module_version": "1.2.0",
            "_view_name": "StyleView",
            "description_width": ""
          }
        },
        "cd12413fa21c4401a55d0906fb493ade": {
          "model_module": "@jupyter-widgets/base",
          "model_module_version": "1.2.0",
          "model_name": "LayoutModel",
          "state": {
            "_model_module": "@jupyter-widgets/base",
            "_model_module_version": "1.2.0",
            "_model_name": "LayoutModel",
            "_view_count": null,
            "_view_module": "@jupyter-widgets/base",
            "_view_module_version": "1.2.0",
            "_view_name": "LayoutView",
            "align_content": null,
            "align_items": null,
            "align_self": null,
            "border": null,
            "bottom": null,
            "display": null,
            "flex": null,
            "flex_flow": null,
            "grid_area": null,
            "grid_auto_columns": null,
            "grid_auto_flow": null,
            "grid_auto_rows": null,
            "grid_column": null,
            "grid_gap": null,
            "grid_row": null,
            "grid_template_areas": null,
            "grid_template_columns": null,
            "grid_template_rows": null,
            "height": null,
            "justify_content": null,
            "justify_items": null,
            "left": null,
            "margin": null,
            "max_height": null,
            "max_width": null,
            "min_height": null,
            "min_width": null,
            "object_fit": null,
            "object_position": null,
            "order": null,
            "overflow": null,
            "overflow_x": null,
            "overflow_y": null,
            "padding": null,
            "right": null,
            "top": null,
            "visibility": null,
            "width": null
          }
        },
        "d13adfc31c6f4585a8f9e58f32e640ea": {
          "model_module": "@jupyter-widgets/base",
          "model_module_version": "1.2.0",
          "model_name": "LayoutModel",
          "state": {
            "_model_module": "@jupyter-widgets/base",
            "_model_module_version": "1.2.0",
            "_model_name": "LayoutModel",
            "_view_count": null,
            "_view_module": "@jupyter-widgets/base",
            "_view_module_version": "1.2.0",
            "_view_name": "LayoutView",
            "align_content": null,
            "align_items": null,
            "align_self": null,
            "border": null,
            "bottom": null,
            "display": null,
            "flex": null,
            "flex_flow": null,
            "grid_area": null,
            "grid_auto_columns": null,
            "grid_auto_flow": null,
            "grid_auto_rows": null,
            "grid_column": null,
            "grid_gap": null,
            "grid_row": null,
            "grid_template_areas": null,
            "grid_template_columns": null,
            "grid_template_rows": null,
            "height": null,
            "justify_content": null,
            "justify_items": null,
            "left": null,
            "margin": null,
            "max_height": null,
            "max_width": null,
            "min_height": null,
            "min_width": null,
            "object_fit": null,
            "object_position": null,
            "order": null,
            "overflow": null,
            "overflow_x": null,
            "overflow_y": null,
            "padding": null,
            "right": null,
            "top": null,
            "visibility": null,
            "width": null
          }
        },
        "d8f060d048ed43528a53c8838e7245fb": {
          "model_module": "@jupyter-widgets/base",
          "model_module_version": "1.2.0",
          "model_name": "LayoutModel",
          "state": {
            "_model_module": "@jupyter-widgets/base",
            "_model_module_version": "1.2.0",
            "_model_name": "LayoutModel",
            "_view_count": null,
            "_view_module": "@jupyter-widgets/base",
            "_view_module_version": "1.2.0",
            "_view_name": "LayoutView",
            "align_content": null,
            "align_items": null,
            "align_self": null,
            "border": null,
            "bottom": null,
            "display": null,
            "flex": null,
            "flex_flow": null,
            "grid_area": null,
            "grid_auto_columns": null,
            "grid_auto_flow": null,
            "grid_auto_rows": null,
            "grid_column": null,
            "grid_gap": null,
            "grid_row": null,
            "grid_template_areas": null,
            "grid_template_columns": null,
            "grid_template_rows": null,
            "height": null,
            "justify_content": null,
            "justify_items": null,
            "left": null,
            "margin": null,
            "max_height": null,
            "max_width": null,
            "min_height": null,
            "min_width": null,
            "object_fit": null,
            "object_position": null,
            "order": null,
            "overflow": null,
            "overflow_x": null,
            "overflow_y": null,
            "padding": null,
            "right": null,
            "top": null,
            "visibility": null,
            "width": null
          }
        },
        "dd1d3bac805042ea8b38e17187e2ee26": {
          "model_module": "@jupyter-widgets/base",
          "model_module_version": "1.2.0",
          "model_name": "LayoutModel",
          "state": {
            "_model_module": "@jupyter-widgets/base",
            "_model_module_version": "1.2.0",
            "_model_name": "LayoutModel",
            "_view_count": null,
            "_view_module": "@jupyter-widgets/base",
            "_view_module_version": "1.2.0",
            "_view_name": "LayoutView",
            "align_content": null,
            "align_items": null,
            "align_self": null,
            "border": null,
            "bottom": null,
            "display": null,
            "flex": null,
            "flex_flow": null,
            "grid_area": null,
            "grid_auto_columns": null,
            "grid_auto_flow": null,
            "grid_auto_rows": null,
            "grid_column": null,
            "grid_gap": null,
            "grid_row": null,
            "grid_template_areas": null,
            "grid_template_columns": null,
            "grid_template_rows": null,
            "height": null,
            "justify_content": null,
            "justify_items": null,
            "left": null,
            "margin": null,
            "max_height": null,
            "max_width": null,
            "min_height": null,
            "min_width": null,
            "object_fit": null,
            "object_position": null,
            "order": null,
            "overflow": null,
            "overflow_x": null,
            "overflow_y": null,
            "padding": null,
            "right": null,
            "top": null,
            "visibility": null,
            "width": null
          }
        },
        "dd2345bda9114002b40d6f01c94edae4": {
          "model_module": "@jupyter-widgets/controls",
          "model_module_version": "1.5.0",
          "model_name": "ProgressStyleModel",
          "state": {
            "_model_module": "@jupyter-widgets/controls",
            "_model_module_version": "1.5.0",
            "_model_name": "ProgressStyleModel",
            "_view_count": null,
            "_view_module": "@jupyter-widgets/base",
            "_view_module_version": "1.2.0",
            "_view_name": "StyleView",
            "bar_color": null,
            "description_width": ""
          }
        },
        "ea4e50615e434b9d81a8884a814eb689": {
          "model_module": "@jupyter-widgets/base",
          "model_module_version": "1.2.0",
          "model_name": "LayoutModel",
          "state": {
            "_model_module": "@jupyter-widgets/base",
            "_model_module_version": "1.2.0",
            "_model_name": "LayoutModel",
            "_view_count": null,
            "_view_module": "@jupyter-widgets/base",
            "_view_module_version": "1.2.0",
            "_view_name": "LayoutView",
            "align_content": null,
            "align_items": null,
            "align_self": null,
            "border": null,
            "bottom": null,
            "display": null,
            "flex": null,
            "flex_flow": null,
            "grid_area": null,
            "grid_auto_columns": null,
            "grid_auto_flow": null,
            "grid_auto_rows": null,
            "grid_column": null,
            "grid_gap": null,
            "grid_row": null,
            "grid_template_areas": null,
            "grid_template_columns": null,
            "grid_template_rows": null,
            "height": null,
            "justify_content": null,
            "justify_items": null,
            "left": null,
            "margin": null,
            "max_height": null,
            "max_width": null,
            "min_height": null,
            "min_width": null,
            "object_fit": null,
            "object_position": null,
            "order": null,
            "overflow": null,
            "overflow_x": null,
            "overflow_y": null,
            "padding": null,
            "right": null,
            "top": null,
            "visibility": null,
            "width": null
          }
        },
        "ed5f8505a27c4d83af6293fc3a52dbb8": {
          "model_module": "@jupyter-widgets/controls",
          "model_module_version": "1.5.0",
          "model_name": "FloatProgressModel",
          "state": {
            "_dom_classes": [],
            "_model_module": "@jupyter-widgets/controls",
            "_model_module_version": "1.5.0",
            "_model_name": "FloatProgressModel",
            "_view_count": null,
            "_view_module": "@jupyter-widgets/controls",
            "_view_module_version": "1.5.0",
            "_view_name": "ProgressView",
            "bar_style": "success",
            "description": "",
            "description_tooltip": null,
            "layout": "IPY_MODEL_f7010813e05d4e3b9805ab27b62335b7",
            "max": 125,
            "min": 0,
            "orientation": "horizontal",
            "style": "IPY_MODEL_2a7164991dee4d9a84292d5187fa7f64",
            "value": 125
          }
        },
        "ef7f8390e8a041ad93229105c7212f2c": {
          "model_module": "@jupyter-widgets/controls",
          "model_module_version": "1.5.0",
          "model_name": "DescriptionStyleModel",
          "state": {
            "_model_module": "@jupyter-widgets/controls",
            "_model_module_version": "1.5.0",
            "_model_name": "DescriptionStyleModel",
            "_view_count": null,
            "_view_module": "@jupyter-widgets/base",
            "_view_module_version": "1.2.0",
            "_view_name": "StyleView",
            "description_width": ""
          }
        },
        "f206add21b4b49449704f9845070d503": {
          "model_module": "@jupyter-widgets/controls",
          "model_module_version": "1.5.0",
          "model_name": "HTMLModel",
          "state": {
            "_dom_classes": [],
            "_model_module": "@jupyter-widgets/controls",
            "_model_module_version": "1.5.0",
            "_model_name": "HTMLModel",
            "_view_count": null,
            "_view_module": "@jupyter-widgets/controls",
            "_view_module_version": "1.5.0",
            "_view_name": "HTMLView",
            "description": "",
            "description_tooltip": null,
            "layout": "IPY_MODEL_ea4e50615e434b9d81a8884a814eb689",
            "placeholder": "​",
            "style": "IPY_MODEL_67839ef18c6c47f8b6fa09d050a8ab48",
            "value": " 125/125 [00:03&lt;00:00, 41.76it/s]"
          }
        },
        "f7010813e05d4e3b9805ab27b62335b7": {
          "model_module": "@jupyter-widgets/base",
          "model_module_version": "1.2.0",
          "model_name": "LayoutModel",
          "state": {
            "_model_module": "@jupyter-widgets/base",
            "_model_module_version": "1.2.0",
            "_model_name": "LayoutModel",
            "_view_count": null,
            "_view_module": "@jupyter-widgets/base",
            "_view_module_version": "1.2.0",
            "_view_name": "LayoutView",
            "align_content": null,
            "align_items": null,
            "align_self": null,
            "border": null,
            "bottom": null,
            "display": null,
            "flex": null,
            "flex_flow": null,
            "grid_area": null,
            "grid_auto_columns": null,
            "grid_auto_flow": null,
            "grid_auto_rows": null,
            "grid_column": null,
            "grid_gap": null,
            "grid_row": null,
            "grid_template_areas": null,
            "grid_template_columns": null,
            "grid_template_rows": null,
            "height": null,
            "justify_content": null,
            "justify_items": null,
            "left": null,
            "margin": null,
            "max_height": null,
            "max_width": null,
            "min_height": null,
            "min_width": null,
            "object_fit": null,
            "object_position": null,
            "order": null,
            "overflow": null,
            "overflow_x": null,
            "overflow_y": null,
            "padding": null,
            "right": null,
            "top": null,
            "visibility": null,
            "width": null
          }
        },
        "f89636252f044ba5bdf070020f2acdc8": {
          "model_module": "@jupyter-widgets/base",
          "model_module_version": "1.2.0",
          "model_name": "LayoutModel",
          "state": {
            "_model_module": "@jupyter-widgets/base",
            "_model_module_version": "1.2.0",
            "_model_name": "LayoutModel",
            "_view_count": null,
            "_view_module": "@jupyter-widgets/base",
            "_view_module_version": "1.2.0",
            "_view_name": "LayoutView",
            "align_content": null,
            "align_items": null,
            "align_self": null,
            "border": null,
            "bottom": null,
            "display": null,
            "flex": null,
            "flex_flow": null,
            "grid_area": null,
            "grid_auto_columns": null,
            "grid_auto_flow": null,
            "grid_auto_rows": null,
            "grid_column": null,
            "grid_gap": null,
            "grid_row": null,
            "grid_template_areas": null,
            "grid_template_columns": null,
            "grid_template_rows": null,
            "height": null,
            "justify_content": null,
            "justify_items": null,
            "left": null,
            "margin": null,
            "max_height": null,
            "max_width": null,
            "min_height": null,
            "min_width": null,
            "object_fit": null,
            "object_position": null,
            "order": null,
            "overflow": null,
            "overflow_x": null,
            "overflow_y": null,
            "padding": null,
            "right": null,
            "top": null,
            "visibility": null,
            "width": null
          }
        }
      }
    }
  },
  "nbformat": 4,
  "nbformat_minor": 0
}
